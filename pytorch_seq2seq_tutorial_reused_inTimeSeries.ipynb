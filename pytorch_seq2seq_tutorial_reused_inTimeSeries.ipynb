{
 "cells": [
  {
   "cell_type": "code",
   "execution_count": 1,
   "metadata": {
    "collapsed": true
   },
   "outputs": [],
   "source": [
    "from __future__ import unicode_literals, print_function, division\n",
    "from io import open\n",
    "import unicodedata\n",
    "import string\n",
    "import re\n",
    "import random\n",
    "import pandas as pd\n",
    "import numpy as np\n",
    "import torch\n",
    "import torch.nn as nn\n",
    "from torch.autograd import Variable\n",
    "from torch import optim\n",
    "import torch.nn.functional as F\n",
    "import matplotlib as plt\n",
    "import torch\n",
    "from torch.autograd import Variable\n",
    "use_cuda = torch.cuda.is_available()"
   ]
  },
  {
   "cell_type": "code",
   "execution_count": 2,
   "metadata": {},
   "outputs": [
    {
     "name": "stdout",
     "output_type": "stream",
     "text": [
      "Month of Year      int64\n",
      "Sessions         float64\n",
      "str               object\n",
      "year              object\n",
      "month             object\n",
      "dtype: object\n"
     ]
    },
    {
     "data": {
      "text/html": [
       "<div>\n",
       "<style>\n",
       "    .dataframe thead tr:only-child th {\n",
       "        text-align: right;\n",
       "    }\n",
       "\n",
       "    .dataframe thead th {\n",
       "        text-align: left;\n",
       "    }\n",
       "\n",
       "    .dataframe tbody tr th {\n",
       "        vertical-align: top;\n",
       "    }\n",
       "</style>\n",
       "<table border=\"1\" class=\"dataframe\">\n",
       "  <thead>\n",
       "    <tr style=\"text-align: right;\">\n",
       "      <th></th>\n",
       "      <th>Month of Year</th>\n",
       "      <th>Sessions</th>\n",
       "      <th>str</th>\n",
       "      <th>year</th>\n",
       "      <th>month</th>\n",
       "    </tr>\n",
       "  </thead>\n",
       "  <tbody>\n",
       "    <tr>\n",
       "      <th>79</th>\n",
       "      <td>201508</td>\n",
       "      <td>154854.0</td>\n",
       "      <td>201508</td>\n",
       "      <td>2015</td>\n",
       "      <td>08</td>\n",
       "    </tr>\n",
       "    <tr>\n",
       "      <th>80</th>\n",
       "      <td>201509</td>\n",
       "      <td>100407.0</td>\n",
       "      <td>201509</td>\n",
       "      <td>2015</td>\n",
       "      <td>09</td>\n",
       "    </tr>\n",
       "    <tr>\n",
       "      <th>81</th>\n",
       "      <td>201510</td>\n",
       "      <td>96439.0</td>\n",
       "      <td>201510</td>\n",
       "      <td>2015</td>\n",
       "      <td>10</td>\n",
       "    </tr>\n",
       "    <tr>\n",
       "      <th>82</th>\n",
       "      <td>201511</td>\n",
       "      <td>79689.0</td>\n",
       "      <td>201511</td>\n",
       "      <td>2015</td>\n",
       "      <td>11</td>\n",
       "    </tr>\n",
       "    <tr>\n",
       "      <th>83</th>\n",
       "      <td>201512</td>\n",
       "      <td>99689.0</td>\n",
       "      <td>201512</td>\n",
       "      <td>2015</td>\n",
       "      <td>12</td>\n",
       "    </tr>\n",
       "  </tbody>\n",
       "</table>\n",
       "</div>"
      ],
      "text/plain": [
       "    Month of Year  Sessions     str  year month\n",
       "79         201508  154854.0  201508  2015    08\n",
       "80         201509  100407.0  201509  2015    09\n",
       "81         201510   96439.0  201510  2015    10\n",
       "82         201511   79689.0  201511  2015    11\n",
       "83         201512   99689.0  201512  2015    12"
      ]
     },
     "execution_count": 2,
     "metadata": {},
     "output_type": "execute_result"
    }
   ],
   "source": [
    "fil='/Users/uzi720/Desktop/'\n",
    "data=pd.read_csv(fil+\"tsIE.csv\",sep=';')\n",
    "\n",
    "data['Sessions']=data['Sessions'].astype('float')\n",
    "data['str']=data['Month of Year'].astype(str)\n",
    "data['year']=data['str'].str[:4]\n",
    "data['month']=data['str'].str[4:]\n",
    "print(data.dtypes)\n",
    "data.head()\n",
    "data.tail()"
   ]
  },
  {
   "cell_type": "code",
   "execution_count": 3,
   "metadata": {},
   "outputs": [
    {
     "name": "stdout",
     "output_type": "stream",
     "text": [
      "   year       Sessions              \n",
      "                  mean           std\n",
      "0  2009   81125.666667  19857.182943\n",
      "1  2010  101085.083333  34454.598082\n",
      "2  2011  101923.750000  23524.255583\n",
      "3  2012  102986.000000  26878.443242\n",
      "4  2013  118917.083333  27364.116352\n",
      "5  2014  113627.250000  35534.987438\n",
      "6  2015  127608.166667  32894.264169\n",
      "MultiIndex(levels=[[u'Sessions', u'year'], [u'mean', u'std', u'']],\n",
      "           labels=[[1, 0, 0], [2, 0, 1]])\n",
      "<class 'pandas.core.series.Series'>\n",
      "<type 'str'> <type 'float'> <type 'float'>\n",
      "<type 'str'> 2009 <type 'numpy.float64'> 66953.0\n"
     ]
    }
   ],
   "source": [
    "result = data.groupby(['year'], as_index=False).agg(\n",
    "                      {'Sessions':['mean','std']})\n",
    "print(result)\n",
    "print(result.columns)\n",
    "year=result['year']\n",
    "print(type(year))\n",
    "yrs=year.values.tolist()\n",
    "\n",
    "mean=result['Sessions']['mean']\n",
    "std=result['Sessions']['std']\n",
    "yr_mu=mean.values.tolist()\n",
    "yr_std=std.values.tolist()\n",
    "print(type(yrs[0]),type(yr_mu[0]), type(yr_std[0]))\n",
    "print(type(data.iloc[0,3]),data.iloc[0,3],type(data.iloc[0,1]),data.iloc[0,1]) \n"
   ]
  },
  {
   "cell_type": "code",
   "execution_count": 4,
   "metadata": {},
   "outputs": [
    {
     "name": "stdout",
     "output_type": "stream",
     "text": [
      "[52735.0, 69856.2, 77730.8, 87020.1, 94290.20000000001, 100113.0, 108201.00000000003, 124658.0, 136022.2, 151519.7] 151519.7\n"
     ]
    }
   ],
   "source": [
    "data['Sessions'].plot()\n",
    "cuts=[data['Sessions'].quantile(.1*i) for i in range(0,10)]\n",
    "print (cuts , data['Sessions'].quantile(.90))\n",
    "\n",
    "\n"
   ]
  },
  {
   "cell_type": "code",
   "execution_count": 6,
   "metadata": {
    "collapsed": true
   },
   "outputs": [],
   "source": [
    "# Turn a Unicode string to plain ASCII, thanks to\n",
    "# http://stackoverflow.com/a/518232/2809427\n",
    "def unicodeToAscii(s):\n",
    "    return ''.join(\n",
    "        c for c in unicodedata.normalize('NFD', s)\n",
    "        if unicodedata.category(c) != 'Mn'\n",
    "    )\n",
    "\n",
    "# Lowercase, trim, and remove non-letter characters\n",
    "\n",
    "\n",
    "def normalizeString(s):\n",
    "    s = unicodeToAscii(s.lower().strip())\n",
    "    s = re.sub(r\"([.!?])\", r\" \\1\", s)\n",
    "    s = re.sub(r\"[^a-zA-Z.!?]+\", r\" \", s)\n",
    "    return s"
   ]
  },
  {
   "cell_type": "code",
   "execution_count": 7,
   "metadata": {},
   "outputs": [
    {
     "name": "stdout",
     "output_type": "stream",
     "text": [
      "84 [u'b', u'b', u'e', u'd', u'g', u'g', u'h', u'f', u'c', u'b', u'b', u'b', u'c', u'c', u'f', u'k', u'j', u'g', u'h', u'h', u'd', u'c', u'b', u'd', u'e', u'e', u'f', u'f', u'i', u'i', u'i', u'j', u'e', u'd', u'c', u'b', u'g', u'e', u'g', u'h', u'h', u'i', u'j', u'j', u'e', u'd', u'b', u'b', u'h', u'g', u'i', u'h', u'i', u'j', u'k', u'k', u'e', u'f', u'c', u'e', u'g', u'd', u'f', u'i', u'i', u'k', u'k', u'j', u'd', u'e', u'c', u'c', u'j', u'h', u'k', u'h', u'j', u'k', u'k', u'k', u'g', u'f', u'd', u'f']\n"
     ]
    }
   ],
   "source": [
    "# convert Session data to symbols from a,b,c,d,e,f,g,h,i,j\n",
    "symbols=[]\n",
    "for idx in data.index:\n",
    "    if data.iloc[idx,1]< cuts[0]:\n",
    "        symbols.append(normalizeString('a'))\n",
    "    elif (data.iloc[idx,1]>=cuts[0] and data.iloc[idx,1] < cuts[1]):\n",
    "        symbols.append(normalizeString('b'))\n",
    "    elif (data.iloc[idx,1]>=cuts[1] and data.iloc[idx,1] < cuts[2]):\n",
    "        symbols.append(normalizeString('c'))\n",
    "    elif (data.iloc[idx,1]>=cuts[2] and data.iloc[idx,1] < cuts[3]):\n",
    "        symbols.append(normalizeString('d'))\n",
    "    elif (data.iloc[idx,1]>=cuts[3] and data.iloc[idx,1] < cuts[4]):\n",
    "        symbols.append(normalizeString('e'))\n",
    "    elif (data.iloc[idx,1]>=cuts[4] and data.iloc[idx,1] < cuts[5]):\n",
    "        symbols.append(normalizeString('f'))\n",
    "    elif (data.iloc[idx,1]>=cuts[5] and data.iloc[idx,1] < cuts[6]):\n",
    "        symbols.append(normalizeString('g'))\n",
    "    elif (data.iloc[idx,1]>=cuts[6] and data.iloc[idx,1] < cuts[7]):\n",
    "        symbols.append(normalizeString('h'))\n",
    "    elif (data.iloc[idx,1]>=cuts[7] and data.iloc[idx,1] < cuts[8]):\n",
    "        symbols.append(normalizeString('i'))\n",
    "    elif (data.iloc[idx,1]>=cuts[8] and data.iloc[idx,1] < cuts[9]):\n",
    "        symbols.append(normalizeString('j'))\n",
    "    else :\n",
    "        symbols.append(normalizeString('k'))\n",
    "print(len(symbols),symbols)"
   ]
  },
  {
   "cell_type": "code",
   "execution_count": 8,
   "metadata": {},
   "outputs": [
    {
     "name": "stdout",
     "output_type": "stream",
     "text": [
      "['2009' '2010' '2011' '2012' '2013' '2014' '2015']\n"
     ]
    },
    {
     "data": {
      "text/html": [
       "<div>\n",
       "<style>\n",
       "    .dataframe thead tr:only-child th {\n",
       "        text-align: right;\n",
       "    }\n",
       "\n",
       "    .dataframe thead th {\n",
       "        text-align: left;\n",
       "    }\n",
       "\n",
       "    .dataframe tbody tr th {\n",
       "        vertical-align: top;\n",
       "    }\n",
       "</style>\n",
       "<table border=\"1\" class=\"dataframe\">\n",
       "  <thead>\n",
       "    <tr style=\"text-align: right;\">\n",
       "      <th></th>\n",
       "      <th>Month of Year</th>\n",
       "      <th>Sessions</th>\n",
       "      <th>str</th>\n",
       "      <th>year</th>\n",
       "      <th>month</th>\n",
       "      <th>symbols</th>\n",
       "    </tr>\n",
       "  </thead>\n",
       "  <tbody>\n",
       "    <tr>\n",
       "      <th>0</th>\n",
       "      <td>200901</td>\n",
       "      <td>66953.0</td>\n",
       "      <td>200901</td>\n",
       "      <td>2009</td>\n",
       "      <td>01</td>\n",
       "      <td>b</td>\n",
       "    </tr>\n",
       "    <tr>\n",
       "      <th>1</th>\n",
       "      <td>200902</td>\n",
       "      <td>61591.0</td>\n",
       "      <td>200902</td>\n",
       "      <td>2009</td>\n",
       "      <td>02</td>\n",
       "      <td>b</td>\n",
       "    </tr>\n",
       "    <tr>\n",
       "      <th>2</th>\n",
       "      <td>200903</td>\n",
       "      <td>87241.0</td>\n",
       "      <td>200903</td>\n",
       "      <td>2009</td>\n",
       "      <td>03</td>\n",
       "      <td>e</td>\n",
       "    </tr>\n",
       "    <tr>\n",
       "      <th>3</th>\n",
       "      <td>200904</td>\n",
       "      <td>85263.0</td>\n",
       "      <td>200904</td>\n",
       "      <td>2009</td>\n",
       "      <td>04</td>\n",
       "      <td>d</td>\n",
       "    </tr>\n",
       "    <tr>\n",
       "      <th>4</th>\n",
       "      <td>200905</td>\n",
       "      <td>100813.0</td>\n",
       "      <td>200905</td>\n",
       "      <td>2009</td>\n",
       "      <td>05</td>\n",
       "      <td>g</td>\n",
       "    </tr>\n",
       "  </tbody>\n",
       "</table>\n",
       "</div>"
      ],
      "text/plain": [
       "   Month of Year  Sessions     str  year month symbols\n",
       "0         200901   66953.0  200901  2009    01       b\n",
       "1         200902   61591.0  200902  2009    02       b\n",
       "2         200903   87241.0  200903  2009    03       e\n",
       "3         200904   85263.0  200904  2009    04       d\n",
       "4         200905  100813.0  200905  2009    05       g"
      ]
     },
     "execution_count": 8,
     "metadata": {},
     "output_type": "execute_result"
    }
   ],
   "source": [
    "data['symbols']=symbols\n",
    "print ( data.year.unique())\n",
    "data.head()"
   ]
  },
  {
   "cell_type": "code",
   "execution_count": 9,
   "metadata": {},
   "outputs": [
    {
     "data": {
      "text/plain": [
       "<matplotlib.axes._subplots.AxesSubplot at 0x11431f810>"
      ]
     },
     "execution_count": 9,
     "metadata": {},
     "output_type": "execute_result"
    },
    {
     "data": {
      "image/png": "[encoded data removed]",
      "text/plain": [
       "<matplotlib.figure.Figure at 0x114333350>"
      ]
     },
     "metadata": {},
     "output_type": "display_data"
    }
   ],
   "source": [
    "import matplotlib.pyplot as plt\n",
    "\n",
    "%matplotlib inline\n",
    "data.boxplot(by='year',column=\"Sessions\")"
   ]
  },
  {
   "cell_type": "code",
   "execution_count": null,
   "metadata": {
    "collapsed": true
   },
   "outputs": [],
   "source": []
  },
  {
   "cell_type": "code",
   "execution_count": 10,
   "metadata": {},
   "outputs": [
    {
     "data": {
      "text/plain": [
       "[(87042.0, u'e'),\n",
       " (100100.0, u'f'),\n",
       " (84997.0, u'd'),\n",
       " (68835.0, u'b'),\n",
       " (66953.0, u'b'),\n",
       " (160778.0, u'k'),\n",
       " (63127.0, u'b'),\n",
       " (98061.0, u'f'),\n",
       " (85263.0, u'd'),\n",
       " (94170.0, u'e'),\n",
       " (76179.0, u'c'),\n",
       " (120469.0, u'h'),\n",
       " (151190.0, u'j'),\n",
       " (61591.0, u'b'),\n",
       " (184984.0, u'k'),\n",
       " (98969.0, u'f'),\n",
       " (67868.0, u'b'),\n",
       " (105117.0, u'g'),\n",
       " (100126.0, u'g'),\n",
       " (151173.0, u'j'),\n",
       " (145056.0, u'j'),\n",
       " (183856.0, u'k'),\n",
       " (88866.0, u'e'),\n",
       " (151661.0, u'k'),\n",
       " (79689.0, u'd'),\n",
       " (115623.0, u'h'),\n",
       " (137000.0, u'j'),\n",
       " (127260.0, u'i'),\n",
       " (124586.0, u'h'),\n",
       " (93639.0, u'e'),\n",
       " (100268.0, u'g'),\n",
       " (75694.0, u'c'),\n",
       " (77872.0, u'd'),\n",
       " (86823.0, u'd'),\n",
       " (94771.0, u'f'),\n",
       " (130357.0, u'i'),\n",
       " (100534.0, u'g'),\n",
       " (87305.0, u'e'),\n",
       " (136159.0, u'j'),\n",
       " (96439.0, u'f'),\n",
       " (140222.0, u'j'),\n",
       " (113141.0, u'h'),\n",
       " (71488.0, u'c'),\n",
       " (70083.0, u'c'),\n",
       " (134340.0, u'i'),\n",
       " (132918.0, u'i'),\n",
       " (101959.0, u'g'),\n",
       " (111176.0, u'h'),\n",
       " (87241.0, u'e'),\n",
       " (92874.0, u'e'),\n",
       " (100407.0, u'g'),\n",
       " (100813.0, u'g'),\n",
       " (152014.0, u'k'),\n",
       " (63757.0, u'b'),\n",
       " (108972.0, u'h'),\n",
       " (115923.0, u'h'),\n",
       " (78804.0, u'd'),\n",
       " (92757.0, u'e'),\n",
       " (134574.0, u'i'),\n",
       " (120154.0, u'h'),\n",
       " (77519.0, u'c'),\n",
       " (95226.0, u'f'),\n",
       " (76383.0, u'c'),\n",
       " (178785.0, u'k'),\n",
       " (135931.0, u'i'),\n",
       " (167905.0, u'k'),\n",
       " (154854.0, u'k'),\n",
       " (86293.0, u'd'),\n",
       " (136298.0, u'j'),\n",
       " (92395.0, u'e'),\n",
       " (110317.0, u'h'),\n",
       " (152050.0, u'k'),\n",
       " (104435.0, u'g'),\n",
       " (71284.0, u'c'),\n",
       " (127230.0, u'i'),\n",
       " (99689.0, u'f'),\n",
       " (99332.0, u'f'),\n",
       " (81748.0, u'd'),\n",
       " (125306.0, u'i'),\n",
       " (69759.0, u'b'),\n",
       " (67068.0, u'b'),\n",
       " (73469.0, u'c'),\n",
       " (147198.0, u'j'),\n",
       " (52735.0, u'b')]"
      ]
     },
     "execution_count": 10,
     "metadata": {},
     "output_type": "execute_result"
    }
   ],
   "source": [
    "lookup_symbols=dict(zip(data['Sessions'],data['symbols']))\n",
    "lookup_symbols.items()\n"
   ]
  },
  {
   "cell_type": "code",
   "execution_count": null,
   "metadata": {
    "collapsed": true
   },
   "outputs": [],
   "source": [
    "SOS_token = 0\n",
    "EOS_token = 1\n",
    "\n",
    "\n",
    "class Lang:\n",
    "    def __init__(self, name):\n",
    "        self.name = name\n",
    "        self.word2index = {}\n",
    "        self.word2count = {}\n",
    "        self.index2word = {0: \"SOS\", 1: \"EOS\"}\n",
    "        self.n_words = 2  # Count SOS and EOS\n",
    "\n",
    "    def addSentence(self, sentence):\n",
    "        for word in sentence.split(' '):\n",
    "            self.addWord(word)\n",
    "\n",
    "    def addWord(self, word):\n",
    "        if word not in self.word2index:\n",
    "            self.word2index[word] = self.n_words\n",
    "            self.word2count[word] = 1\n",
    "            self.index2word[self.n_words] = word\n",
    "            self.n_words += 1\n",
    "        else:\n",
    "            self.word2count[word] += 1"
   ]
  },
  {
   "cell_type": "code",
   "execution_count": 5,
   "metadata": {
    "collapsed": true
   },
   "outputs": [],
   "source": []
  },
  {
   "cell_type": "code",
   "execution_count": 11,
   "metadata": {},
   "outputs": [
    {
     "name": "stdout",
     "output_type": "stream",
     "text": [
      "[(['b', 'b', 'e', 'd', 'g', 'g', 'h', 'f', 'c', 'b', 'b', 'b'], ['c', 'c', 'f', 'k', 'j', 'g', 'h', 'h', 'd', 'c', 'b', 'd']), (['c', 'c', 'f', 'k', 'j', 'g', 'h', 'h', 'd', 'c', 'b', 'd'], ['e', 'e', 'f', 'f', 'i', 'i', 'i', 'j', 'e', 'd', 'c', 'b']), (['e', 'e', 'f', 'f', 'i', 'i', 'i', 'j', 'e', 'd', 'c', 'b'], ['g', 'e', 'g', 'h', 'h', 'i', 'j', 'j', 'e', 'd', 'b', 'b']), (['g', 'e', 'g', 'h', 'h', 'i', 'j', 'j', 'e', 'd', 'b', 'b'], ['h', 'g', 'i', 'h', 'i', 'j', 'k', 'k', 'e', 'f', 'c', 'e']), (['h', 'g', 'i', 'h', 'i', 'j', 'k', 'k', 'e', 'f', 'c', 'e'], ['g', 'd', 'f', 'i', 'i', 'k', 'k', 'j', 'd', 'e', 'c', 'c'])] 5\n"
     ]
    }
   ],
   "source": [
    "train_data=[]\n",
    "\n",
    "\n",
    "\n",
    "yrs=data['year'].unique().tolist()\n",
    "for yr in range(2009, 2014):\n",
    "    \n",
    "    temp=([lookup_symbols[x].encode(\"utf-8\") for x in data.loc[(data.year==str(yr))]['Sessions'].values.tolist()],[lookup_symbols[x].encode(\"utf-8\") for x in data.loc[(data.year==str(yr+1))]['Sessions'].values.tolist()])\n",
    "    train_data.append(temp)\n",
    "\n",
    "print(train_data,len(train_data))\n"
   ]
  },
  {
   "cell_type": "code",
   "execution_count": null,
   "metadata": {
    "collapsed": true
   },
   "outputs": [],
   "source": []
  },
  {
   "cell_type": "code",
   "execution_count": null,
   "metadata": {
    "collapsed": true
   },
   "outputs": [],
   "source": [
    "len(train_data), len(data['year'].unique())"
   ]
  },
  {
   "cell_type": "code",
   "execution_count": 12,
   "metadata": {},
   "outputs": [
    {
     "name": "stdout",
     "output_type": "stream",
     "text": [
      "{'c': 6, 'b': 0, 'e': 1, 'd': 2, 'g': 3, 'f': 5, 'i': 9, 'h': 4, 'k': 7, 'j': 8}\n",
      "len(word_to_ix) 10\n"
     ]
    }
   ],
   "source": [
    "### use the same technique to convert your words into dictionaries \n",
    "\"\"\"\n",
    "training_data = [\n",
    "    (\"The dog ate the apple\".split(), [\"DET\", \"NN\", \"V\", \"DET\", \"NN\"]),\n",
    "    (\"Everybody read that book\".split(), [\"NN\", \"V\", \"DET\", \"NN\"])]\n",
    "print(\"training_data\",training_data)\n",
    "\"\"\"\n",
    "\n",
    "word_to_ix = {}\n",
    "for seq1, seq2 in train_data:\n",
    "    #print(\"sent:{}, tags:{}\".format(sent,tags))\n",
    "    for word in seq1:\n",
    "        if str(word) not in word_to_ix:\n",
    "            word_to_ix[str(word)] = len(word_to_ix)\n",
    "    for word in seq2:\n",
    "        if str(word) not in word_to_ix:\n",
    "            word_to_ix[str(word)] = len(word_to_ix)\n",
    "        \n",
    "print(word_to_ix)\n",
    "\n",
    "\n",
    "# These will usually be more like 32 or 64 dimensional.\n",
    "# We will keep them small, so we can see how the weights change as we train.\n",
    "EMBEDDING_DIM = len(word_to_ix)+ 10\n",
    "HIDDEN_DIM = 28\n",
    "print(\"len(word_to_ix)\", len(word_to_ix))\n"
   ]
  },
  {
   "cell_type": "code",
   "execution_count": 13,
   "metadata": {},
   "outputs": [
    {
     "name": "stdout",
     "output_type": "stream",
     "text": [
      "[6, 0, 1, 2, 3, 5, 4] [6, 0, 2, 3, 5, 4, 7, 8]\n"
     ]
    }
   ],
   "source": [
    "tryin=[word_to_ix[x] for x in list(set(train_data[0][0]))] \n",
    "\n",
    "tryout=[word_to_ix[x] for x in list(set(train_data[0][1]))] \n",
    "print(tryin, tryout)\n"
   ]
  },
  {
   "cell_type": "code",
   "execution_count": 15,
   "metadata": {
    "collapsed": true
   },
   "outputs": [],
   "source": [
    "class Net(nn.Module):\n",
    "    def __init__(self, features, cls_size):\n",
    "        super(Net, self).__init__()\n",
    "        self.rnn1 = nn.GRU(input_size=features,\n",
    "                            hidden_size=hidden_size,\n",
    "                            num_layers=1)\n",
    "        self.dense1 = nn.Linear(hidden_size, cls_size)\n",
    "\n",
    "    def forward(self, x, hidden):\n",
    "        x, hidden = self.rnn1(x, hidden)\n",
    "        x = x.select(0, maxlen-1).contiguous()\n",
    "        x = x.view(-1, hidden_size)\n",
    "        x = F.softmax(self.dense1(x))\n",
    "        return x, hidden\n",
    "\n",
    "    def init_hidden(self, batch_size=1):\n",
    "        weight = next(self.parameters()).data\n",
    "        return Variable(weight.new(1, batch_size, hidden_size).zero_())"
   ]
  },
  {
   "cell_type": "code",
   "execution_count": null,
   "metadata": {
    "collapsed": true
   },
   "outputs": [],
   "source": [
    "class LSTMTagger(nn.Module):\n",
    "\n",
    "    def __init__(self, embedding_dim, hidden_dim, vocab_size, tagset_size, n_layers):\n",
    "        super(LSTMTagger, self).__init__()\n",
    "        self.hidden_dim = hidden_dim\n",
    "        ## vocab_size= 2 words in vocab\n",
    "        ## embedding_dim= how many dimension you want to embed into\n",
    "        self.embeddings = nn.Embedding(vocab_size, embedding_dim)\n",
    "        print(\"self.word_embeddings\",self.word_embeddings )\n",
    "        # The LSTM takes word embeddings as inputs, and outputs hidden states\n",
    "        # with dimensionality hidden_dim.\n",
    "        self.rnn=nn.GRU(embedding_dim, tagset_size, n_layers)\n",
    "        # The linear layer that maps from hidden state space to tag space\n",
    "        self.rnn2output = nn.Linear(hidden_dim, tagset_size)\n",
    "        print(\"self.hidden2tag\",self.hidden2tag)\n",
    "        self.hidden = self.hidden=Variable(torch.randn(n_layers,1, tagset_size))\n",
    "        \n",
    "    def forward(self, in_var):\n",
    "        embeds = self.embeddings(in_var)\n",
    "        print(\"forward embeds\",embeds) #12x16\n",
    "        lstm_out, self.hidden = self.lstm(\n",
    "            embeds.view(len(sentence), 1, -1), self.hidden)\n",
    "        print(\"forward lstm_out:{} self.hidden:{}\".format(lstm_out,self.hidden)) #12x1x56\n",
    "        tag_space = self.rnn2output(lstm_out.view(len(sentence), -1))\n",
    "        print(\"forward tag_space\", tag_space.size()) #torch.Size([12, 2])\n",
    "        tag_scores = F.log_softmax(tag_space)\n",
    "        print(\"forward tag_scores\",tag_scores) #12x2\n",
    "        return tag_scores\n"
   ]
  },
  {
   "cell_type": "code",
   "execution_count": null,
   "metadata": {
    "collapsed": true
   },
   "outputs": [],
   "source": [
    "def prepare_sequence(seq, to_ix):\n",
    "    idxs = [to_ix[w] for w in seq]\n",
    "    print(\"to_ix\", to_ix)\n",
    "    print(\"idxs\", idxs)\n",
    "    tensor = torch.LongTensor(idxs)\n",
    "    print(\"tensor\", tensor)\n",
    "    print(\"prepare_sequence out tensor\",autograd.Variable(tensor))\n",
    "    return autograd.Variable(tensor)"
   ]
  },
  {
   "cell_type": "code",
   "execution_count": null,
   "metadata": {
    "collapsed": true
   },
   "outputs": [],
   "source": [
    "model = LSTMTagger(EMBEDDING_DIM, HIDDEN_DIM, len(word_to_ix), len(word_to_ix))\n",
    "loss_function = nn.NLLLoss()\n",
    "optimizer = optim.SGD(rnn.parameters(), lr=0.1)"
   ]
  },
  {
   "cell_type": "code",
   "execution_count": null,
   "metadata": {
    "collapsed": true
   },
   "outputs": [],
   "source": [
    "\"\"\"\n",
    "embeds = nn.Embedding(len(word_to_ix), 10)  # 2 words in vocab, 5 dimensional embeddings\n",
    "lookup_tensor = torch.LongTensor(tryout)\n",
    "print(lookup_tensor.size(), lookup_tensor)\n",
    "hello_embed = embeds(Variable(lookup_tensor)).unsqueeze(0)\n",
    "\n",
    "print(hello_embed.view(-1,1,10))\n",
    "\"\"\"\n",
    "torch.LongTensor(5, 8, 8).random_(0, 4).size()"
   ]
  },
  {
   "cell_type": "code",
   "execution_count": null,
   "metadata": {
    "collapsed": true
   },
   "outputs": [],
   "source": [
    "class DecoderRNN(nn.Module):\n",
    "    def __init__(self, hidden_size, output_size, n_layers=1):\n",
    "        super(DecoderRNN, self).__init__()\n",
    "        self.n_layers = n_layers\n",
    "        self.hidden_size = hidden_size\n",
    "\n",
    "        self.embedding = nn.Embedding(output_size, hidden_size)\n",
    "        self.gru = nn.GRU(hidden_size, hidden_size)\n",
    "        self.out = nn.Linear(hidden_size, output_size)\n",
    "        self.softmax = nn.LogSoftmax(dim=1)\n",
    "\n",
    "    def forward(self, input, hidden):\n",
    "        output = self.embedding(input).view(1, 1, -1)\n",
    "        print(\"forward output\", outpur)\n",
    "        for i in range(self.n_layers):\n",
    "            output = F.relu(output)\n",
    "            print(\"relu output\", output)\n",
    "            output, hidden = self.gru(output, hidden)\n",
    "        output = self.softmax(self.out(output[0]))\n",
    "        return output, hidden\n",
    "\n",
    "    def initHidden(self):\n",
    "        result = Variable(torch.zeros(1, 1, self.hidden_size))\n",
    "        if use_cuda:\n",
    "            return result.cuda()\n",
    "        else:\n",
    "            return result\n"
   ]
  },
  {
   "cell_type": "code",
   "execution_count": 36,
   "metadata": {},
   "outputs": [
    {
     "ename": "TypeError",
     "evalue": "__init__() got an unexpected keyword argument 'dim'",
     "output_type": "error",
     "traceback": [
      "\u001b[0;31m---------------------------------------------------------------------------\u001b[0m",
      "\u001b[0;31mTypeError\u001b[0m                                 Traceback (most recent call last)",
      "\u001b[0;32m<ipython-input-36-73f99d96244d>\u001b[0m in \u001b[0;36m<module>\u001b[0;34m()\u001b[0m\n\u001b[1;32m     24\u001b[0m         \u001b[0;32mreturn\u001b[0m \u001b[0mout\u001b[0m\u001b[0;34m\u001b[0m\u001b[0m\n\u001b[1;32m     25\u001b[0m \u001b[0;34m\u001b[0m\u001b[0m\n\u001b[0;32m---> 26\u001b[0;31m \u001b[0mrnn\u001b[0m\u001b[0;34m=\u001b[0m\u001b[0mRNN_Model\u001b[0m\u001b[0;34m(\u001b[0m\u001b[0membedded_dim\u001b[0m\u001b[0;34m,\u001b[0m\u001b[0moutput_dim\u001b[0m\u001b[0;34m,\u001b[0m\u001b[0mlen\u001b[0m\u001b[0;34m(\u001b[0m\u001b[0mword_to_ix\u001b[0m\u001b[0;34m)\u001b[0m\u001b[0;34m,\u001b[0m\u001b[0;36m2\u001b[0m\u001b[0;34m)\u001b[0m\u001b[0;34m\u001b[0m\u001b[0m\n\u001b[0m\u001b[1;32m     27\u001b[0m \u001b[0mget_output\u001b[0m\u001b[0;34m=\u001b[0m\u001b[0mrnn\u001b[0m\u001b[0;34m.\u001b[0m\u001b[0mforward\u001b[0m\u001b[0;34m(\u001b[0m\u001b[0mtryin\u001b[0m\u001b[0;34m)\u001b[0m\u001b[0;34m\u001b[0m\u001b[0m\n\u001b[1;32m     28\u001b[0m \u001b[0mget_output\u001b[0m\u001b[0;34m=\u001b[0m\u001b[0mget_output\u001b[0m\u001b[0;34m.\u001b[0m\u001b[0msqueeze\u001b[0m\u001b[0;34m(\u001b[0m\u001b[0;36m0\u001b[0m\u001b[0;34m)\u001b[0m\u001b[0;34m\u001b[0m\u001b[0m\n",
      "\u001b[0;32m<ipython-input-36-73f99d96244d>\u001b[0m in \u001b[0;36m__init__\u001b[0;34m(self, embedded_dim, output_dim, total_vocab_len, layers)\u001b[0m\n\u001b[1;32m     11\u001b[0m         \u001b[0mself\u001b[0m\u001b[0;34m.\u001b[0m\u001b[0mhidden\u001b[0m\u001b[0;34m=\u001b[0m\u001b[0mVariable\u001b[0m\u001b[0;34m(\u001b[0m\u001b[0mtorch\u001b[0m\u001b[0;34m.\u001b[0m\u001b[0mrandn\u001b[0m\u001b[0;34m(\u001b[0m\u001b[0mlayers\u001b[0m\u001b[0;34m,\u001b[0m\u001b[0;36m1\u001b[0m\u001b[0;34m,\u001b[0m \u001b[0moutput_dim\u001b[0m\u001b[0;34m)\u001b[0m\u001b[0;34m)\u001b[0m\u001b[0;34m\u001b[0m\u001b[0m\n\u001b[1;32m     12\u001b[0m         \u001b[0mself\u001b[0m\u001b[0;34m.\u001b[0m\u001b[0mrnn2output\u001b[0m \u001b[0;34m=\u001b[0m \u001b[0mnn\u001b[0m\u001b[0;34m.\u001b[0m\u001b[0mLinear\u001b[0m\u001b[0;34m(\u001b[0m\u001b[0moutput_dim\u001b[0m\u001b[0;34m,\u001b[0m \u001b[0moutput_dim\u001b[0m\u001b[0;34m)\u001b[0m\u001b[0;34m\u001b[0m\u001b[0m\n\u001b[0;32m---> 13\u001b[0;31m         \u001b[0mself\u001b[0m\u001b[0;34m.\u001b[0m\u001b[0msoftmax\u001b[0m \u001b[0;34m=\u001b[0m \u001b[0mnn\u001b[0m\u001b[0;34m.\u001b[0m\u001b[0mLogSoftmax\u001b[0m\u001b[0;34m(\u001b[0m\u001b[0mdim\u001b[0m\u001b[0;34m=\u001b[0m\u001b[0;36m1\u001b[0m\u001b[0;34m)\u001b[0m\u001b[0;34m\u001b[0m\u001b[0m\n\u001b[0m\u001b[1;32m     14\u001b[0m \u001b[0;34m\u001b[0m\u001b[0m\n\u001b[1;32m     15\u001b[0m     \u001b[0;32mdef\u001b[0m \u001b[0mforward\u001b[0m\u001b[0;34m(\u001b[0m\u001b[0mself\u001b[0m\u001b[0;34m,\u001b[0m \u001b[0min_var\u001b[0m\u001b[0;34m)\u001b[0m\u001b[0;34m:\u001b[0m\u001b[0;34m\u001b[0m\u001b[0m\n",
      "\u001b[0;31mTypeError\u001b[0m: __init__() got an unexpected keyword argument 'dim'"
     ]
    }
   ],
   "source": [
    "tryin, tryout\n",
    "embedded_dim=21\n",
    "output_dim=len(tryout)\n",
    "layers=2\n",
    "class RNN_Model(nn.Module):\n",
    "\n",
    "    def __init__(self, embedded_dim, output_dim,total_vocab_len, layers):\n",
    "        super(RNN_Model, self).__init__()\n",
    "        self.embeds = nn.Embedding(total_vocab_len, embedded_dim)\n",
    "        self.rnn=nn.GRU(embedded_dim, output_dim, layers)\n",
    "        self.hidden=Variable(torch.randn(layers,1, output_dim))\n",
    "        self.rnn2output = nn.Linear(output_dim, output_dim)\n",
    "        self.softmax = nn.LogSoftmax(dim=1)\n",
    "        \n",
    "    def forward(self, in_var):\n",
    "        lookup_tensor = torch.LongTensor(in_var)\n",
    "        embed = self.embeds(Variable(lookup_tensor)).unsqueeze(0)\n",
    "        output, hn = self.rnn(embed, self.hidden)\n",
    "        print(\"output.size:{}, hn:{}\".format(output.size(),hn.size()))\n",
    "        out = self.rnn2output(output[0])\n",
    "        \n",
    "        print(\"out size\",out.size())\n",
    "        out = self.softmax(out)\n",
    "        return out\n",
    "\n",
    "rnn=RNN_Model(embedded_dim,output_dim,len(word_to_ix),2)\n",
    "get_output=rnn.forward(tryin)\n",
    "get_output=get_output.squeeze(0)\n",
    "print(get_output)\n",
    "\n"
   ]
  },
  {
   "cell_type": "code",
   "execution_count": 35,
   "metadata": {},
   "outputs": [
    {
     "ename": "RuntimeError",
     "evalue": "multi-target not supported at /Users/soumith/code/builder/wheel/pytorch-src/torch/lib/THNN/generic/ClassNLLCriterion.c:22",
     "output_type": "error",
     "traceback": [
      "\u001b[0;31m---------------------------------------------------------------------------\u001b[0m",
      "\u001b[0;31mRuntimeError\u001b[0m                              Traceback (most recent call last)",
      "\u001b[0;32m<ipython-input-35-b186855842b8>\u001b[0m in \u001b[0;36m<module>\u001b[0;34m()\u001b[0m\n\u001b[1;32m      1\u001b[0m \u001b[0mt\u001b[0m\u001b[0;34m=\u001b[0m\u001b[0mVariable\u001b[0m\u001b[0;34m(\u001b[0m\u001b[0mtorch\u001b[0m\u001b[0;34m.\u001b[0m\u001b[0mLongTensor\u001b[0m\u001b[0;34m(\u001b[0m\u001b[0;34m[\u001b[0m\u001b[0mtryin\u001b[0m\u001b[0;34m]\u001b[0m\u001b[0;34m)\u001b[0m\u001b[0;34m)\u001b[0m\u001b[0;34m\u001b[0m\u001b[0m\n\u001b[1;32m      2\u001b[0m \u001b[0mcriteria\u001b[0m\u001b[0;34m=\u001b[0m\u001b[0mnn\u001b[0m\u001b[0;34m.\u001b[0m\u001b[0mNLLLoss\u001b[0m\u001b[0;34m(\u001b[0m\u001b[0;34m)\u001b[0m\u001b[0;34m\u001b[0m\u001b[0m\n\u001b[0;32m----> 3\u001b[0;31m \u001b[0mcriteria\u001b[0m\u001b[0;34m(\u001b[0m\u001b[0mget_output\u001b[0m\u001b[0;34m,\u001b[0m\u001b[0mt\u001b[0m\u001b[0;34m)\u001b[0m\u001b[0;34m\u001b[0m\u001b[0m\n\u001b[0m",
      "\u001b[0;32m/Users/uzi720/anaconda3/envs/py27/lib/python2.7/site-packages/torch/nn/modules/module.pyc\u001b[0m in \u001b[0;36m__call__\u001b[0;34m(self, *input, **kwargs)\u001b[0m\n\u001b[1;32m    222\u001b[0m         \u001b[0;32mfor\u001b[0m \u001b[0mhook\u001b[0m \u001b[0;32min\u001b[0m \u001b[0mself\u001b[0m\u001b[0;34m.\u001b[0m\u001b[0m_forward_pre_hooks\u001b[0m\u001b[0;34m.\u001b[0m\u001b[0mvalues\u001b[0m\u001b[0;34m(\u001b[0m\u001b[0;34m)\u001b[0m\u001b[0;34m:\u001b[0m\u001b[0;34m\u001b[0m\u001b[0m\n\u001b[1;32m    223\u001b[0m             \u001b[0mhook\u001b[0m\u001b[0;34m(\u001b[0m\u001b[0mself\u001b[0m\u001b[0;34m,\u001b[0m \u001b[0minput\u001b[0m\u001b[0;34m)\u001b[0m\u001b[0;34m\u001b[0m\u001b[0m\n\u001b[0;32m--> 224\u001b[0;31m         \u001b[0mresult\u001b[0m \u001b[0;34m=\u001b[0m \u001b[0mself\u001b[0m\u001b[0;34m.\u001b[0m\u001b[0mforward\u001b[0m\u001b[0;34m(\u001b[0m\u001b[0;34m*\u001b[0m\u001b[0minput\u001b[0m\u001b[0;34m,\u001b[0m \u001b[0;34m**\u001b[0m\u001b[0mkwargs\u001b[0m\u001b[0;34m)\u001b[0m\u001b[0;34m\u001b[0m\u001b[0m\n\u001b[0m\u001b[1;32m    225\u001b[0m         \u001b[0;32mfor\u001b[0m \u001b[0mhook\u001b[0m \u001b[0;32min\u001b[0m \u001b[0mself\u001b[0m\u001b[0;34m.\u001b[0m\u001b[0m_forward_hooks\u001b[0m\u001b[0;34m.\u001b[0m\u001b[0mvalues\u001b[0m\u001b[0;34m(\u001b[0m\u001b[0;34m)\u001b[0m\u001b[0;34m:\u001b[0m\u001b[0;34m\u001b[0m\u001b[0m\n\u001b[1;32m    226\u001b[0m             \u001b[0mhook_result\u001b[0m \u001b[0;34m=\u001b[0m \u001b[0mhook\u001b[0m\u001b[0;34m(\u001b[0m\u001b[0mself\u001b[0m\u001b[0;34m,\u001b[0m \u001b[0minput\u001b[0m\u001b[0;34m,\u001b[0m \u001b[0mresult\u001b[0m\u001b[0;34m)\u001b[0m\u001b[0;34m\u001b[0m\u001b[0m\n",
      "\u001b[0;32m/Users/uzi720/anaconda3/envs/py27/lib/python2.7/site-packages/torch/nn/modules/loss.pyc\u001b[0m in \u001b[0;36mforward\u001b[0;34m(self, input, target)\u001b[0m\n\u001b[1;32m    130\u001b[0m         \u001b[0m_assert_no_grad\u001b[0m\u001b[0;34m(\u001b[0m\u001b[0mtarget\u001b[0m\u001b[0;34m)\u001b[0m\u001b[0;34m\u001b[0m\u001b[0m\n\u001b[1;32m    131\u001b[0m         return F.nll_loss(input, target, self.weight, self.size_average,\n\u001b[0;32m--> 132\u001b[0;31m                           self.ignore_index)\n\u001b[0m\u001b[1;32m    133\u001b[0m \u001b[0;34m\u001b[0m\u001b[0m\n\u001b[1;32m    134\u001b[0m \u001b[0;34m\u001b[0m\u001b[0m\n",
      "\u001b[0;32m/Users/uzi720/anaconda3/envs/py27/lib/python2.7/site-packages/torch/nn/functional.pyc\u001b[0m in \u001b[0;36mnll_loss\u001b[0;34m(input, target, weight, size_average, ignore_index)\u001b[0m\n\u001b[1;32m    670\u001b[0m     \u001b[0mdim\u001b[0m \u001b[0;34m=\u001b[0m \u001b[0minput\u001b[0m\u001b[0;34m.\u001b[0m\u001b[0mdim\u001b[0m\u001b[0;34m(\u001b[0m\u001b[0;34m)\u001b[0m\u001b[0;34m\u001b[0m\u001b[0m\n\u001b[1;32m    671\u001b[0m     \u001b[0;32mif\u001b[0m \u001b[0mdim\u001b[0m \u001b[0;34m==\u001b[0m \u001b[0;36m2\u001b[0m\u001b[0;34m:\u001b[0m\u001b[0;34m\u001b[0m\u001b[0m\n\u001b[0;32m--> 672\u001b[0;31m         \u001b[0;32mreturn\u001b[0m \u001b[0m_functions\u001b[0m\u001b[0;34m.\u001b[0m\u001b[0mthnn\u001b[0m\u001b[0;34m.\u001b[0m\u001b[0mNLLLoss\u001b[0m\u001b[0;34m.\u001b[0m\u001b[0mapply\u001b[0m\u001b[0;34m(\u001b[0m\u001b[0minput\u001b[0m\u001b[0;34m,\u001b[0m \u001b[0mtarget\u001b[0m\u001b[0;34m,\u001b[0m \u001b[0mweight\u001b[0m\u001b[0;34m,\u001b[0m \u001b[0msize_average\u001b[0m\u001b[0;34m,\u001b[0m \u001b[0mignore_index\u001b[0m\u001b[0;34m)\u001b[0m\u001b[0;34m\u001b[0m\u001b[0m\n\u001b[0m\u001b[1;32m    673\u001b[0m     \u001b[0;32melif\u001b[0m \u001b[0mdim\u001b[0m \u001b[0;34m==\u001b[0m \u001b[0;36m4\u001b[0m\u001b[0;34m:\u001b[0m\u001b[0;34m\u001b[0m\u001b[0m\n\u001b[1;32m    674\u001b[0m         \u001b[0;32mreturn\u001b[0m \u001b[0m_functions\u001b[0m\u001b[0;34m.\u001b[0m\u001b[0mthnn\u001b[0m\u001b[0;34m.\u001b[0m\u001b[0mNLLLoss2d\u001b[0m\u001b[0;34m.\u001b[0m\u001b[0mapply\u001b[0m\u001b[0;34m(\u001b[0m\u001b[0minput\u001b[0m\u001b[0;34m,\u001b[0m \u001b[0mtarget\u001b[0m\u001b[0;34m,\u001b[0m \u001b[0mweight\u001b[0m\u001b[0;34m,\u001b[0m \u001b[0msize_average\u001b[0m\u001b[0;34m,\u001b[0m \u001b[0mignore_index\u001b[0m\u001b[0;34m)\u001b[0m\u001b[0;34m\u001b[0m\u001b[0m\n",
      "\u001b[0;32m/Users/uzi720/anaconda3/envs/py27/lib/python2.7/site-packages/torch/nn/_functions/thnn/auto.pyc\u001b[0m in \u001b[0;36mforward\u001b[0;34m(ctx, input, target, *args)\u001b[0m\n\u001b[1;32m     45\u001b[0m         \u001b[0moutput\u001b[0m \u001b[0;34m=\u001b[0m \u001b[0minput\u001b[0m\u001b[0;34m.\u001b[0m\u001b[0mnew\u001b[0m\u001b[0;34m(\u001b[0m\u001b[0;36m1\u001b[0m\u001b[0;34m)\u001b[0m\u001b[0;34m\u001b[0m\u001b[0m\n\u001b[1;32m     46\u001b[0m         getattr(ctx._backend, update_output.name)(ctx._backend.library_state, input, target,\n\u001b[0;32m---> 47\u001b[0;31m                                                   output, *ctx.additional_args)\n\u001b[0m\u001b[1;32m     48\u001b[0m         \u001b[0;32mreturn\u001b[0m \u001b[0moutput\u001b[0m\u001b[0;34m\u001b[0m\u001b[0m\n\u001b[1;32m     49\u001b[0m \u001b[0;34m\u001b[0m\u001b[0m\n",
      "\u001b[0;31mRuntimeError\u001b[0m: multi-target not supported at /Users/soumith/code/builder/wheel/pytorch-src/torch/lib/THNN/generic/ClassNLLCriterion.c:22"
     ]
    }
   ],
   "source": [
    "t=Variable(torch.LongTensor([tryin]))\n",
    "criteria=nn.NLLLoss()\n",
    "criteria(get_output,t)"
   ]
  },
  {
   "cell_type": "code",
   "execution_count": null,
   "metadata": {
    "collapsed": true
   },
   "outputs": [],
   "source": [
    "\"\"\"\n",
    "rnn = nn.GRU(10, 20, 1)\n",
    "#print(torch.randn(1, 1, 10).size())\n",
    "input = Variable(torch.randn(1, 1, 10))\n",
    "#print(input)\n",
    "h0 = Variable(torch.randn(1,1, 20))\n",
    "output, hn = rnn(hello_embed, h0)\n",
    "print(output.size())\n",
    "\"\"\""
   ]
  },
  {
   "cell_type": "code",
   "execution_count": null,
   "metadata": {
    "collapsed": true
   },
   "outputs": [],
   "source": [
    "for epoch in range(5):  # again, normally you would NOT do 300 epochs, it is toy data\n",
    "    for seq1, seq2 in train_data:\n",
    "        #print(\"sentence:{} tags:{}\".format( sentence, tags))\n",
    "        # Step 1. Remember that Pytorch accumulates gradients.\n",
    "        # We need to clear them out before each instance\n",
    "        model.zero_grad()\n",
    "\n",
    "        # Also, we need to clear out the hidden state of the LSTM,\n",
    "        # detaching it from its history on the last instance.\n",
    "        model.hidden = model.init_hidden()\n",
    "\n",
    "        # Step 2. Get our inputs ready for the network, that is, turn them into\n",
    "        # Variables of word indices.\n",
    "        tags=[str(t) for t in tags]\n",
    "        sentence_in = prepare_sequence(sentence, word_to_ix)\n",
    "        targets = prepare_sequence(tags, tag_to_ix)\n",
    "\n",
    "        # Step 3. Run our forward pass.\n",
    "        tag_scores = model(sentence_in)\n",
    "\n",
    "        # Step 4. Compute the loss, gradients, and update the parameters by\n",
    "        #  calling optimizer.step()\n",
    "        loss = loss_function(tag_scores, targets)\n",
    "        loss.backward()\n",
    "\n",
    "        optimizer.step()\n",
    "        if epoch%100 ==0 :\n",
    "            print(\"loss\",loss)\n",
    "\n",
    "# See what the scores are after training\n",
    "inputs = prepare_sequence(train_data[0][0], word_to_ix)\n",
    "tag_scores = model(inputs)\n",
    "# The sentence is \"the dog ate the apple\".  i,j corresponds to score for tag j\n",
    "#  for word i. The predicted tag is the maximum scoring tag.\n",
    "# Here, we can see the predicted sequence below is 0 1 2 0 1\n",
    "# since 0 is index of the maximum value of row 1,\n",
    "# 1 is the index of maximum value of row 2, etc.\n",
    "# Which is DET NOUN VERB DET NOUN, the correct sequence!\n",
    "print(tag_scores)"
   ]
  }
 ],
 "metadata": {
  "kernelspec": {
   "display_name": "Python 3",
   "language": "python",
   "name": "python3"
  },
  "language_info": {
   "codemirror_mode": {
    "name": "ipython",
    "version": 3
   },
   "file_extension": ".py",
   "mimetype": "text/x-python",
   "name": "python",
   "nbconvert_exporter": "python",
   "pygments_lexer": "ipython3",
   "version": "3.5.4"
  }
 },
 "nbformat": 4,
 "nbformat_minor": 2
}

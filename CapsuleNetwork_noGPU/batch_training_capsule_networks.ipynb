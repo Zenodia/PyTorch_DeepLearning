{
 "cells": [
  {
   "cell_type": "code",
   "execution_count": 1,
   "metadata": {
    "collapsed": true
   },
   "outputs": [],
   "source": [
    "# modification of the original ipynb notebook \n",
    "#https://github.com/higgsfield/Capsule-Network-Tutorial/blob/master/Capsule%20Network.ipynb\n",
    "#https://github.com/aliasvishnu/Capsule-Networks-Notebook-MNIST\n",
    "import numpy as np\n",
    "\n",
    "import torch\n",
    "import torch.nn as nn\n",
    "import torch.nn.functional as F\n",
    "from torch.autograd import Variable\n",
    "from torch.optim import Adam\n",
    "from torchvision import datasets, transforms\n",
    "from torchvision.datasets.mnist import MNIST\n",
    "import numpy as np\n",
    "import matplotlib.pyplot as plt\n",
    "%matplotlib inline\n",
    "\n",
    "USE_CUDA = False"
   ]
  },
  {
   "cell_type": "markdown",
   "metadata": {},
   "source": [
    "<p><b>NOTE:</b><br>\n",
    "All thanks to Mr. Kenta (seriously). However, I've made certain changes to speed up the code a little, and make the code more in line with the paper.</p>\n",
    "<p> Also, this notebook only talks about the classification portion, not the reconstruction. </p> <br>\n",
    "Basically, there are 3 layers.\n",
    "<ul>\n",
    "<li>Convolution Layer</li>\n",
    "<li>Convolution Capsule Layer (PrimaryCaps)</li>\n",
    "<li>Capsule Layer (DigitCaps) </li>\n",
    "</ul>\n",
    "\n",
    "<img src = \"images/arch.png\">\n",
    "\n",
    "Let's look at this one by one."
   ]
  },
  {
   "cell_type": "markdown",
   "metadata": {},
   "source": [
    "##### Capsule Convolutional Layer"
   ]
  },
  {
   "cell_type": "code",
   "execution_count": 2,
   "metadata": {
    "collapsed": true
   },
   "outputs": [],
   "source": [
    "class ConvCaps2D(nn.Module):\n",
    "    def __init__(self):\n",
    "        super(ConvCaps2D, self).__init__()\n",
    "        # The paper suggests having 32 8D capsules\n",
    "        self.capsules = nn.ModuleList([nn.Conv2d(in_channels = 256, out_channels = 8, kernel_size=9, stride=2)\n",
    "                                       for _ in range(32)])\n",
    "        \n",
    "    def squash(self, tensor, dim=-1):\n",
    "        norm = (tensor**2).sum(dim=dim, keepdim = True) # norm.size() is (None, 1152, 1)\n",
    "        scale = norm / (1 + norm) # scale.size()  is (None, 1152, 1)  \n",
    "        return scale*tensor / torch.sqrt(norm)\n",
    "        \n",
    "    def forward(self, x):\n",
    "        outputs = [capsule(x).view(x.size(0), 8, -1) for capsule in self.capsules] # 32 list of (None, 1, 8, 36)\n",
    "        outputs = torch.cat(outputs, dim = 2).permute(0, 2, 1)  # outputs.size() is (None, 1152, 8)\n",
    "        return self.squash(outputs)\n"
   ]
  },
  {
   "cell_type": "code",
   "execution_count": 3,
   "metadata": {
    "collapsed": true
   },
   "outputs": [],
   "source": [
    "class Caps1D(nn.Module):\n",
    "    def __init__(self):\n",
    "        super(Caps1D, self).__init__()\n",
    "        self.num_caps = 10\n",
    "        self.num_iterations = 3\n",
    "        self.W = nn.Parameter(torch.randn(10, 1152, 8, 16))\n",
    "        \n",
    "    def softmax(self, x, dim = 1):\n",
    "        transposed_input = x.transpose(dim, len(x.size()) - 1)\n",
    "        softmaxed_output = F.softmax(transposed_input.contiguous().view(-1, transposed_input.size(-1)))\n",
    "        return softmaxed_output.view(*transposed_input.size()).transpose(dim, len(x.size()) - 1)\n",
    "\n",
    "    def squash(self, tensor, dim=-1):\n",
    "        norm = (tensor**2).sum(dim=dim, keepdim = True) # norm.size() is (None, 1152, 1)\n",
    "        scale = norm / (1 + norm)        \n",
    "        return scale*tensor / torch.sqrt(norm)\n",
    "   \n",
    "    # Routing algorithm\n",
    "    def forward(self, u):\n",
    "        # u.size() is (None, 1152, 8)\n",
    "        '''\n",
    "        From documentation\n",
    "        For example, if tensor1 is a j x 1 x n x m Tensor and tensor2 is a k x m x p Tensor, \n",
    "        out will be an j x k x n x p Tensor.\n",
    "        \n",
    "        We need j = None, 1, n = 1152, k = 10, m = 8, p = 16\n",
    "        '''\n",
    "        \n",
    "        u_ji = torch.matmul(u[:, None, :, None, :], self.W) # u_ji.size() is (None, 10, 1152, 1, 16)\n",
    "        \n",
    "        if USE_CUDA:\n",
    "            b = Variable(torch.zeros(u_ji.size())).cuda(gpu) # b.size() is (None, 10, 1152, 1, 16)\n",
    "        else:\n",
    "            b = Variable(torch.zeros(u_ji.size()))\n",
    "        \n",
    "        for i in range(self.num_iterations):\n",
    "            c = self.softmax(b, dim=2)\n",
    "            v = self.squash((c * u_ji).sum(dim=2, keepdim=True)) # v.size() is (None, 10, 1, 1, 16)\n",
    "\n",
    "            if i != self.num_iterations - 1:\n",
    "                delta_b = (u_ji * v).sum(dim=-1, keepdim=True)\n",
    "                b = b + delta_b\n",
    "        \n",
    "        # Now we simply compute the length of the vectors and take the softmax to get probability.\n",
    "        v = v.squeeze()\n",
    "        classes = (v ** 2).sum(dim=-1) ** 0.5\n",
    "        classes = F.softmax(classes, dim=0) # This is not done in the paper, but I've done this to use CrossEntropyLoss.\n",
    "        \n",
    "        return classes\n",
    "if USE_CUDA:\n",
    "    net = Caps1D().cuda(gpu)\n",
    "else:\n",
    "    net=Caps1D()\n",
    "# sum(net.forward(Variable(torch.Tensor(np.random.rand(1, 1152, 8)).cuda(gpu))))"
   ]
  },
  {
   "cell_type": "code",
   "execution_count": 4,
   "metadata": {
    "collapsed": true
   },
   "outputs": [],
   "source": [
    "class CapsNet(nn.Module):\n",
    "    def __init__(self):\n",
    "        super(CapsNet, self).__init__()\n",
    "        \n",
    "        self.conv1 = nn.Conv2d(in_channels = 1, out_channels = 256, kernel_size = 9, stride = 1)\n",
    "        \n",
    "        self.primaryCaps = ConvCaps2D()\n",
    "        self.digitCaps = Caps1D()\n",
    "        \n",
    "        \n",
    "    def forward(self, x):\n",
    "        x = F.relu(self.conv1(x))\n",
    "        x = self.primaryCaps(x)\n",
    "        x = self.digitCaps(x)\n",
    "        \n",
    "        return x\n",
    "if USE_CUDA:\n",
    "    net = CapsNet().cuda(gpu)\n",
    "else:\n",
    "    net=CapsNet()"
   ]
  },
  {
   "cell_type": "code",
   "execution_count": null,
   "metadata": {
    "collapsed": true
   },
   "outputs": [],
   "source": []
  },
  {
   "cell_type": "code",
   "execution_count": 5,
   "metadata": {
    "collapsed": true
   },
   "outputs": [],
   "source": [
    "def evaluate(model, X, Y, batch_size = 200):\n",
    "    \"\"\"\n",
    "    X is a torch float tensor made from sampler\n",
    "    y is also a torch long tensor made from sampler\n",
    "    \"\"\"\n",
    "    results = []\n",
    "    predicted = []\n",
    "    \n",
    "    inputs=Variable(X)\n",
    "    \n",
    "        \n",
    "    #inputs = Variable(torch.from_numpy(X[s:e]).cuda(gpu))\n",
    "    pred = model(inputs)\n",
    "    #print(\"pred\",pred)\n",
    "    #print(\"argmax\",np.argmax(pred.data.cpu().numpy(), axis = 1))\n",
    "    predicted= list(np.argmax(pred.data.cpu().numpy(), axis = 1))\n",
    "    #print(type(predicted))\n",
    "    \n",
    "    acc = sum([1 if t1==t2 else 0 for t1,t2 in zip(predicted, Y)])*1.0/(len(Y))\n",
    "    return acc"
   ]
  },
  {
   "cell_type": "code",
   "execution_count": null,
   "metadata": {
    "collapsed": true
   },
   "outputs": [],
   "source": [
    "\n",
    "t1=list(Variable(tr_labels).data.numpy())\n",
    "out=net(Variable(tr_batches))\n",
    "t2=list(np.argmax(out.data.cpu().numpy(), axis = 1))\n",
    "evaluate(net,t1,t2)"
   ]
  },
  {
   "cell_type": "code",
   "execution_count": null,
   "metadata": {
    "collapsed": true
   },
   "outputs": [],
   "source": [
    "sum([1 if x == y else 0 for x,y in zip(t1,t2)])*1.0/(len(t2))"
   ]
  },
  {
   "cell_type": "code",
   "execution_count": null,
   "metadata": {
    "collapsed": true
   },
   "outputs": [],
   "source": []
  },
  {
   "cell_type": "markdown",
   "metadata": {},
   "source": [
    "##### DigitCaps Layer\n",
    "Most important thing here is the routing by agreement portion. I've used same variables as in the paper. <br>\n",
    "<img src = 'images/form1.png' style = \"width:400px;\"><img src = 'images/form2.png' style = \"width:250px;\"><br>\n",
    "<img src = 'images/alg1.png' style = \"float:left\">"
   ]
  },
  {
   "cell_type": "code",
   "execution_count": null,
   "metadata": {
    "collapsed": true
   },
   "outputs": [],
   "source": []
  },
  {
   "cell_type": "markdown",
   "metadata": {},
   "source": [
    "##### Capsule Network\n",
    "Now we just put together all of the above code."
   ]
  },
  {
   "cell_type": "code",
   "execution_count": null,
   "metadata": {
    "collapsed": true
   },
   "outputs": [],
   "source": []
  },
  {
   "cell_type": "code",
   "execution_count": null,
   "metadata": {
    "collapsed": true
   },
   "outputs": [],
   "source": []
  },
  {
   "cell_type": "code",
   "execution_count": null,
   "metadata": {
    "collapsed": true
   },
   "outputs": [],
   "source": []
  },
  {
   "cell_type": "markdown",
   "metadata": {},
   "source": [
    "Load the data"
   ]
  },
  {
   "cell_type": "code",
   "execution_count": 19,
   "metadata": {},
   "outputs": [
    {
     "name": "stdout",
     "output_type": "stream",
     "text": [
      "(60000, 1, 28, 28) (60000,)\n",
      "(8000,)\n",
      "[1217 4112 7155 3131 4680]\n",
      "2000\n"
     ]
    },
    {
     "data": {
      "text/plain": [
       "((8000, 1, 28, 28), (2000, 1, 28, 28))"
      ]
     },
     "execution_count": 19,
     "metadata": {},
     "output_type": "execute_result"
    }
   ],
   "source": [
    "dataset = MNIST(root='./data', download=False, train=True)\n",
    "\n",
    "X = np.expand_dims(getattr(dataset, 'train_data').numpy().astype('float32'), 1)/255.0\n",
    "y = getattr(dataset, 'train_labels').numpy().astype('int64')\n",
    "\n",
    "#indices = np.random.permutation(len(X_train))\n",
    "#X_train = X_train[indices]\n",
    "#y_train = y_train[indices]\n",
    "print(X.shape, y.shape)\n",
    "\n",
    "dataset = MNIST(root='./data', download=False, train=False)\n",
    "\n",
    "X_test = np.expand_dims(getattr(dataset, 'test_data').numpy().astype('float32'), 1)/255.0\n",
    "y_test = getattr(dataset, 'test_labels').numpy().astype('int64')\n",
    "\n",
    "\n",
    "n=int(len(X_test))\n",
    "indices = np.random.choice(n, int(n*0.8), replace=False)\n",
    "\n",
    "print(indices.shape)\n",
    "print(indices[:5])\n",
    "\n",
    "X_train = X_test[indices]\n",
    "y_train = y_test[indices]\n",
    "\n",
    "not_idx=[x for x in range(n) if x not in indices]\n",
    "print(len(not_idx))\n",
    "\n",
    "X_test = X_test[not_idx]\n",
    "y_test = y_test[not_idx]\n",
    "X_train.shape, X_test.shape"
   ]
  },
  {
   "cell_type": "code",
   "execution_count": 7,
   "metadata": {
    "collapsed": true
   },
   "outputs": [],
   "source": [
    "from random import *\n",
    "import random\n",
    "class SampleMaker(object):\n",
    "    \n",
    "    def __init__(self, capacity):\n",
    "        self.capacity = capacity\n",
    "        self.memory = []\n",
    "    \n",
    "    def push(self, event):\n",
    "        event2torch=event[0]       \n",
    "        event_label=event[1]       \n",
    "        self.memory.append([event2torch,event_label])  \n",
    "        if len(self.memory) > self.capacity:\n",
    "            del self.memory[0]\n",
    "    \n",
    "    def make(self, batch_size):\n",
    "        samples = random.sample(*(self.memory, batch_size))\n",
    "       \n",
    "        return samples"
   ]
  },
  {
   "cell_type": "code",
   "execution_count": 8,
   "metadata": {
    "collapsed": true
   },
   "outputs": [],
   "source": [
    "\n",
    "#populate the SampleMaker with all the 8000 training data\n",
    "samplemaker=SampleMaker(capacity=8000)\n",
    "for i in range(8000):\n",
    "    #print(test_dat[i].shape, test_label[i].shape)\n",
    "    samplemaker.push([X_train[i],y_train[i]])    \n",
    "\n",
    "\n",
    "#populate the SampleMaker with all the 8000 training data\n",
    "testmaker=SampleMaker(capacity=2000)\n",
    "for i in range(2000):\n",
    "    #print(test_dat[i].shape, test_label[i].shape)\n",
    "    testmaker.push([X_test[i],y_test[i]])   "
   ]
  },
  {
   "cell_type": "code",
   "execution_count": 9,
   "metadata": {
    "collapsed": true
   },
   "outputs": [],
   "source": [
    "#converting types to pytorch tensors\n",
    "import itertools\n",
    "def type_converter(sam,batch_size , img_size):\n",
    "    train_placeholder=np.empty((1,img_size,img_size),dtype=float,order='C')\n",
    "    train_labels=np.empty((1,1),dtype=float,order='C')\n",
    "    batch=map(lambda s: s[0],sam)\n",
    "    #convert batch\n",
    "    for o in enumerate(batch):\n",
    "        #print(o[1].shape)\n",
    "        train_placeholder=np.vstack((train_placeholder,o[1]))\n",
    "    train_batches=np.delete(train_placeholder, 0, 0).reshape(batch_size,1,img_size,img_size) #delete the empty placeholder\n",
    "    \n",
    "    batch_labels=list(map(lambda s:s[1],sam))\n",
    "    #print(len(batch_labels))\n",
    "    batch_labels=[l.tolist() for l in batch_labels]#convert to list\n",
    "    #print(len(batch_labels))\n",
    "    #batch_labels=list(itertools.chain(*batch_labels))#flattern to flatlist\n",
    "    batch_labels=[int(i) for i in batch_labels]#turn each inner-list type to int \n",
    "    #print(len(batch_labels))\n",
    "    batch_labels=np.array(batch_labels, dtype=np.int64)#convert to np array\n",
    "    #print(batch_labels.shape)\n",
    "    #returning nd array for train batches and labels\n",
    "    return train_batches,batch_labels"
   ]
  },
  {
   "cell_type": "code",
   "execution_count": null,
   "metadata": {
    "collapsed": true
   },
   "outputs": [],
   "source": [
    "sam=samplemaker.make(100)\n",
    "list(map(lambda s:s[1],sam))"
   ]
  },
  {
   "cell_type": "code",
   "execution_count": 10,
   "metadata": {
    "collapsed": true
   },
   "outputs": [],
   "source": [
    "def torch_ready(batch_size,img_size, train):\n",
    "    if train:\n",
    "        samples=samplemaker.make(batch_size)\n",
    "    else:\n",
    "        samples=testmaker.make(batch_size)\n",
    "    d,l=type_converter(samples,batch_size,img_size)\n",
    "    data=torch.from_numpy(d).float()\n",
    "    label=torch.from_numpy(l)\n",
    "    return data , label"
   ]
  },
  {
   "cell_type": "code",
   "execution_count": null,
   "metadata": {},
   "outputs": [],
   "source": [
    "#debug tryout\n",
    "num_batches=1\n",
    "batch_size=100\n",
    "img_size=28\n",
    "\n",
    "tr_batches, tr_labels=torch_ready(200,28,True)\n",
    "#print(tr_batches.size())\n",
    "#print(tr_labels.size())\n",
    "out=model(Variable(tr_batches))  \n",
    "\n",
    "#print(Variable(tr_labels))\n",
    "print(criterion(out,Variable(tr_labels)).data[0])\n",
    "evaluate(model, tr_batches, tr_labels,10)"
   ]
  },
  {
   "cell_type": "code",
   "execution_count": 12,
   "metadata": {
    "collapsed": true
   },
   "outputs": [],
   "source": [
    "import pickle\n",
    "import os\n",
    "import sys\n",
    "#torch.save(net, 'capsule_networks_pytorch.pkl')\n",
    "\n",
    "# Then later:\n",
    "net = torch.load('capsule_networks_pytorch.pkl')"
   ]
  },
  {
   "cell_type": "code",
   "execution_count": 13,
   "metadata": {},
   "outputs": [
    {
     "name": "stderr",
     "output_type": "stream",
     "text": [
      "C:\\Users\\zecharpy\\AppData\\Local\\Continuum\\anaconda3\\envs\\wj_py363\\lib\\site-packages\\ipykernel_launcher.py:10: UserWarning: Implicit dimension choice for softmax has been deprecated. Change the call to include dim=X as an argument.\n",
      "  # Remove the CWD from sys.path while we load stuff.\n"
     ]
    },
    {
     "name": "stdout",
     "output_type": "stream",
     "text": [
      "Variable containing:\n",
      " 2.3010\n",
      "[torch.FloatTensor of size 1]\n",
      "\n",
      "Epoch, Loss - 0, 2.300981283187866\n",
      "Train -  0.655\n",
      "Test -  0.61\n",
      "Variable containing:\n",
      " 2.3009\n",
      "[torch.FloatTensor of size 1]\n",
      "\n",
      "Epoch, Loss - 0, 4.601848363876343\n",
      "Train -  0.715\n",
      "Test -  0.68\n",
      "Variable containing:\n",
      " 2.3007\n",
      "[torch.FloatTensor of size 1]\n",
      "\n",
      "Epoch, Loss - 0, 6.902560710906982\n",
      "Train -  0.685\n",
      "Test -  0.76\n",
      "Variable containing:\n",
      " 2.3005\n",
      "[torch.FloatTensor of size 1]\n",
      "\n",
      "Epoch, Loss - 0, 9.203043460845947\n",
      "Train -  0.73\n",
      "Test -  0.7\n",
      "Variable containing:\n",
      " 2.3005\n",
      "[torch.FloatTensor of size 1]\n",
      "\n",
      "Epoch, Loss - 0, 11.503533363342285\n",
      "Train -  0.74\n",
      "Test -  0.675\n",
      "Variable containing:\n",
      " 2.3005\n",
      "[torch.FloatTensor of size 1]\n",
      "\n",
      "Epoch, Loss - 0, 13.804039001464844\n",
      "Train -  0.705\n",
      "Test -  0.755\n",
      "Variable containing:\n",
      " 2.3001\n",
      "[torch.FloatTensor of size 1]\n",
      "\n",
      "Epoch, Loss - 0, 16.10417914390564\n",
      "Train -  0.795\n",
      "Test -  0.695\n",
      "Variable containing:\n",
      " 2.3002\n",
      "[torch.FloatTensor of size 1]\n",
      "\n",
      "Epoch, Loss - 0, 18.4044086933136\n",
      "Train -  0.755\n",
      "Test -  0.765\n",
      "Variable containing:\n",
      " 2.3002\n",
      "[torch.FloatTensor of size 1]\n",
      "\n",
      "Epoch, Loss - 0, 20.70459508895874\n",
      "Train -  0.8\n",
      "Test -  0.75\n",
      "Variable containing:\n",
      " 2.3001\n",
      "[torch.FloatTensor of size 1]\n",
      "\n",
      "Epoch, Loss - 0, 23.00468945503235\n",
      "Train -  0.795\n",
      "Test -  0.84\n"
     ]
    },
    {
     "name": "stderr",
     "output_type": "stream",
     "text": [
      "C:\\Users\\zecharpy\\AppData\\Local\\Continuum\\anaconda3\\envs\\wj_py363\\lib\\site-packages\\torch\\serialization.py:159: UserWarning: Couldn't retrieve source code for container of type CapsNet. It won't be checked for correctness upon loading.\n",
      "  \"type \" + obj.__name__ + \". It won't be checked \"\n",
      "C:\\Users\\zecharpy\\AppData\\Local\\Continuum\\anaconda3\\envs\\wj_py363\\lib\\site-packages\\torch\\serialization.py:159: UserWarning: Couldn't retrieve source code for container of type ConvCaps2D. It won't be checked for correctness upon loading.\n",
      "  \"type \" + obj.__name__ + \". It won't be checked \"\n",
      "C:\\Users\\zecharpy\\AppData\\Local\\Continuum\\anaconda3\\envs\\wj_py363\\lib\\site-packages\\torch\\serialization.py:159: UserWarning: Couldn't retrieve source code for container of type Caps1D. It won't be checked for correctness upon loading.\n",
      "  \"type \" + obj.__name__ + \". It won't be checked \"\n"
     ]
    },
    {
     "name": "stdout",
     "output_type": "stream",
     "text": [
      "Variable containing:\n",
      " 2.3002\n",
      "[torch.FloatTensor of size 1]\n",
      "\n",
      "Epoch, Loss - 1, 2.3002147674560547\n",
      "Train -  0.78\n",
      "Test -  0.81\n",
      "Variable containing:\n",
      " 2.3004\n",
      "[torch.FloatTensor of size 1]\n",
      "\n",
      "Epoch, Loss - 1, 4.6005895137786865\n",
      "Train -  0.82\n",
      "Test -  0.81\n",
      "Variable containing:\n",
      " 2.3003\n",
      "[torch.FloatTensor of size 1]\n",
      "\n",
      "Epoch, Loss - 1, 6.900909900665283\n",
      "Train -  0.84\n",
      "Test -  0.83\n",
      "Variable containing:\n",
      " 2.3005\n",
      "[torch.FloatTensor of size 1]\n",
      "\n",
      "Epoch, Loss - 1, 9.201377391815186\n",
      "Train -  0.845\n",
      "Test -  0.845\n",
      "Variable containing:\n",
      " 2.3004\n",
      "[torch.FloatTensor of size 1]\n",
      "\n",
      "Epoch, Loss - 1, 11.50174856185913\n",
      "Train -  0.84\n",
      "Test -  0.85\n",
      "Variable containing:\n",
      " 2.3005\n",
      "[torch.FloatTensor of size 1]\n",
      "\n",
      "Epoch, Loss - 1, 13.802214860916138\n",
      "Train -  0.815\n",
      "Test -  0.82\n",
      "Variable containing:\n",
      " 2.3003\n",
      "[torch.FloatTensor of size 1]\n",
      "\n",
      "Epoch, Loss - 1, 16.1024968624115\n",
      "Train -  0.86\n",
      "Test -  0.84\n",
      "Variable containing:\n",
      " 2.3000\n",
      "[torch.FloatTensor of size 1]\n",
      "\n",
      "Epoch, Loss - 1, 18.402455806732178\n",
      "Train -  0.855\n",
      "Test -  0.845\n",
      "Variable containing:\n",
      " 2.3001\n",
      "[torch.FloatTensor of size 1]\n",
      "\n",
      "Epoch, Loss - 1, 20.702513456344604\n",
      "Train -  0.86\n",
      "Test -  0.795\n",
      "Variable containing:\n",
      " 2.3001\n",
      "[torch.FloatTensor of size 1]\n",
      "\n",
      "Epoch, Loss - 1, 23.00260829925537\n",
      "Train -  0.79\n",
      "Test -  0.8\n"
     ]
    }
   ],
   "source": [
    "batch_size = 200\n",
    "num_batches=10\n",
    "\n",
    "n_epochs = 2\n",
    "img_size=28\n",
    "trn_acc = []\n",
    "tst_acc = []\n",
    "trn_loss = []\n",
    "\n",
    "# The paper uses a different loss function, but if you want to do just classification you can use this too. However# The pa \n",
    "# make sure the capsule outputs sum to 1. This can be done using softmax.\n",
    "import torch.optim as optim\n",
    "criterion = nn.CrossEntropyLoss()\n",
    "optimizer = optim.Adam(net.parameters())\n",
    "\n",
    "import pickle\n",
    "import os\n",
    "import sys\n",
    "#torch.save(net, 'capsule_networks_pytorch.pkl')\n",
    "\n",
    "for epoch in range(n_epochs):\n",
    "\n",
    "    train_loss = 0\n",
    "    for i in range(num_batches):\n",
    "        d, l=torch_ready(batch_size, img_size,True )\n",
    "        #label=torch.sparse.torch.eye(10).index_select(dim=0, index=l)\n",
    "        data, target = Variable(d), Variable(l)\n",
    "        if USE_CUDA:\n",
    "            data, target = data.cuda(), target.cuda()\n",
    "\n",
    "        # forward + backward + optimize\n",
    "        outputs = net(data)\n",
    "        \n",
    "        loss = criterion(outputs, target)\n",
    "        print(loss)\n",
    "        loss.backward()\n",
    "        \n",
    "        optimizer.step()\n",
    "        \n",
    "        del data, target\n",
    "\n",
    "        train_loss += loss.data[0]\n",
    "\n",
    "        trn_loss.append(train_loss)\n",
    "        trn_acc.append(evaluate(net,d, l, batch_size = 200)) \n",
    "        d, l=torch_ready(batch_size, img_size,False )\n",
    "        tst_acc.append(evaluate(net, d, l, 200)) \n",
    "\n",
    "        print (\"Epoch, Loss - {}, {}\".format(epoch, trn_loss[-1]))\n",
    "        print (\"Train - \", trn_acc[-1])\n",
    "        print (\"Test - \", tst_acc[-1])\n",
    "    torch.save(net, 'capsule_networks_pytorch_epoch{}.pkl'.format(epoch))"
   ]
  },
  {
   "cell_type": "code",
   "execution_count": null,
   "metadata": {
    "collapsed": true
   },
   "outputs": [],
   "source": []
  },
  {
   "cell_type": "code",
   "execution_count": 15,
   "metadata": {},
   "outputs": [],
   "source": [
    "import pickle\n",
    "import os\n",
    "import sys\n",
    "\n",
    "# Then later:\n",
    "model = torch.load('capsule_networks_pytorch_epoch1.pkl')"
   ]
  },
  {
   "cell_type": "code",
   "execution_count": null,
   "metadata": {
    "collapsed": true
   },
   "outputs": [],
   "source": []
  },
  {
   "cell_type": "code",
   "execution_count": 16,
   "metadata": {},
   "outputs": [
    {
     "data": {
      "image/png": "[encoded data removed]",
      "text/plain": [
       "<matplotlib.figure.Figure at 0x24bb55d9ac8>"
      ]
     },
     "metadata": {},
     "output_type": "display_data"
    },
    {
     "data": {
      "image/png": "[encoded data removed]",
      "text/plain": [
       "<matplotlib.figure.Figure at 0x24b817dd7b8>"
      ]
     },
     "metadata": {},
     "output_type": "display_data"
    },
    {
     "data": {
      "image/png": "[encoded data removed]",
      "text/plain": [
       "<matplotlib.figure.Figure at 0x24b819bdc88>"
      ]
     },
     "metadata": {},
     "output_type": "display_data"
    }
   ],
   "source": [
    "plt.plot(range(0, n_epochs*num_batches), trn_acc)\n",
    "plt.title('Training accuracy')\n",
    "plt.show()\n",
    "\n",
    "plt.plot(range(0, n_epochs*num_batches), trn_loss)\n",
    "plt.title('Training loss')\n",
    "plt.show()\n",
    "\n",
    "plt.plot(range(0, n_epochs*num_batches), tst_acc)\n",
    "plt.title('Testing accuracy')\n",
    "plt.show()"
   ]
  },
  {
   "cell_type": "code",
   "execution_count": 21,
   "metadata": {
    "collapsed": true
   },
   "outputs": [],
   "source": [
    "\n",
    "#populate the SampleMaker with all the 1000 training data from MNIST 600000 training dataset\n",
    "validmaker=SampleMaker(capacity=1000)\n",
    "for i in range(1000):\n",
    "    p=random.randint(0, 60000)\n",
    "    #print(test_dat[i].shape, test_label[i].shape)\n",
    "    validmaker.push([X[p],y[p]])    "
   ]
  },
  {
   "cell_type": "code",
   "execution_count": 25,
   "metadata": {},
   "outputs": [],
   "source": [
    "def valid_torch_ready(batch_size,img_size):\n",
    "   \n",
    "    samples=validmaker.make(batch_size)\n",
    "\n",
    "    d,l=type_converter(samples,batch_size,img_size)\n",
    "    data=torch.from_numpy(d).float()\n",
    "    label=torch.from_numpy(l)\n",
    "    return data , label"
   ]
  },
  {
   "cell_type": "code",
   "execution_count": 27,
   "metadata": {},
   "outputs": [
    {
     "name": "stderr",
     "output_type": "stream",
     "text": [
      "C:\\Users\\zecharpy\\AppData\\Local\\Continuum\\anaconda3\\envs\\wj_py363\\lib\\site-packages\\ipykernel_launcher.py:10: UserWarning: Implicit dimension choice for softmax has been deprecated. Change the call to include dim=X as an argument.\n",
      "  # Remove the CWD from sys.path while we load stuff.\n"
     ]
    },
    {
     "name": "stdout",
     "output_type": "stream",
     "text": [
      "validataion accuracy -  0.765\n"
     ]
    }
   ],
   "source": [
    "valid_acc=[]\n",
    "batch_size=200\n",
    "img_size=28\n",
    "for i in range(50):\n",
    "\n",
    "    d, l=valid_torch_ready(batch_size, img_size )\n",
    "    valid_acc.append(evaluate(model, d, l, 200)) \n",
    "print (\"validataion accuracy - \", valid_acc[-1])"
   ]
  },
  {
   "cell_type": "code",
   "execution_count": 29,
   "metadata": {},
   "outputs": [
    {
     "data": {
      "image/png": "[encoded data removed]",
      "text/plain": [
       "<matplotlib.figure.Figure at 0x24b81bcb3c8>"
      ]
     },
     "metadata": {},
     "output_type": "display_data"
    }
   ],
   "source": [
    "plt.plot(range(0, 50), valid_acc)\n",
    "plt.title('Validation set accuracy')\n",
    "plt.show()"
   ]
  }
 ],
 "metadata": {
  "kernelspec": {
   "display_name": "Python 3",
   "language": "python",
   "name": "python3"
  },
  "language_info": {
   "codemirror_mode": {
    "name": "ipython",
    "version": 3
   },
   "file_extension": ".py",
   "mimetype": "text/x-python",
   "name": "python",
   "nbconvert_exporter": "python",
   "pygments_lexer": "ipython3",
   "version": "3.6.3"
  }
 },
 "nbformat": 4,
 "nbformat_minor": 1
}

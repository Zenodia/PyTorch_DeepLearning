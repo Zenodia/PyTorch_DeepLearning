{
 "cells": [
  {
   "cell_type": "code",
   "execution_count": 1,
   "metadata": {
    "collapsed": true
   },
   "outputs": [],
   "source": [
    "import torch\n",
    "import torch.nn as nn\n",
    "import torchvision.transforms as transforms\n",
    "import torchvision.datasets as dsets\n",
    "from torch.autograd import Variable\n",
    "import numpy as np\n",
    "import pandas as pd\n",
    "import torch.nn.parallel\n",
    "import torch.optim as optim\n",
    "import torch.utils.data\n",
    "from torch.autograd import Variable\n",
    "import torch.nn.functional as F\n",
    "import os\n",
    "import sys"
   ]
  },
  {
   "cell_type": "code",
   "execution_count": 2,
   "metadata": {
    "collapsed": true
   },
   "outputs": [],
   "source": [
    "train_dataset = dsets.MNIST(root='../data', \n",
    "                            train=True, \n",
    "                            transform=transforms.ToTensor(),\n",
    "                            download=True)\n",
    "\n",
    "\n",
    "test_dataset = dsets.MNIST(root='../data', \n",
    "                           train=False, \n",
    "                           transform=transforms.ToTensor())"
   ]
  },
  {
   "cell_type": "code",
   "execution_count": 3,
   "metadata": {},
   "outputs": [
    {
     "name": "stdout",
     "output_type": "stream",
     "text": [
      "torch.Size([1, 28, 28]) 5\n"
     ]
    },
    {
     "data": {
      "text/plain": [
       "60000"
      ]
     },
     "execution_count": 3,
     "metadata": {},
     "output_type": "execute_result"
    }
   ],
   "source": [
    "type(train_dataset[0])\n",
    "print(train_dataset[0][0].size(), train_dataset[0][1])\n",
    "len(train_dataset)"
   ]
  },
  {
   "cell_type": "code",
   "execution_count": 4,
   "metadata": {},
   "outputs": [
    {
     "name": "stdout",
     "output_type": "stream",
     "text": [
      "torch.Size([1, 28, 28])\n",
      "7 <class 'int'>\n"
     ]
    },
    {
     "data": {
      "text/plain": [
       "10"
      ]
     },
     "execution_count": 4,
     "metadata": {},
     "output_type": "execute_result"
    }
   ],
   "source": [
    "print(test_dataset[0][0].size())\n",
    "print(test_dataset[0][1], type(test_dataset[0][1]))\n",
    "len(set([test_dataset[i][1] for i in range(10000) ]))"
   ]
  },
  {
   "cell_type": "code",
   "execution_count": 5,
   "metadata": {},
   "outputs": [
    {
     "name": "stdout",
     "output_type": "stream",
     "text": [
      "torch.Size([1, 28, 28]) 7\n",
      "torch.Size([1, 28, 28]) 2\n",
      "torch.Size([1, 28, 28]) 1\n",
      "torch.Size([1, 28, 28]) 0\n",
      "torch.Size([1, 28, 28]) 4\n",
      "torch.Size([1, 28, 28]) 1\n",
      "torch.Size([1, 28, 28]) 4\n",
      "torch.Size([1, 28, 28]) 9\n",
      "torch.Size([1, 28, 28]) 5\n",
      "torch.Size([1, 28, 28]) 9\n"
     ]
    }
   ],
   "source": [
    "for i in range(10):\n",
    "    print(test_dataset[i][0].size(), test_dataset[i][1])"
   ]
  },
  {
   "cell_type": "code",
   "execution_count": 6,
   "metadata": {
    "collapsed": true
   },
   "outputs": [],
   "source": [
    "from random import *\n",
    "class SampleMaker(object):\n",
    "    \n",
    "    def __init__(self, capacity):\n",
    "        self.capacity = capacity\n",
    "        self.memory = []\n",
    "    \n",
    "    def push(self, event):\n",
    "        #each event is a tuple of numpy arrays label 1,1 and dat(128,128)\n",
    "        #convert to torch.floatTensor\n",
    "        event2torch=event[0]       \n",
    "        event_label=event[1]       \n",
    "        self.memory.append([event2torch,event_label])  \n",
    "\n",
    "  \n",
    "        if len(self.memory) > self.capacity:\n",
    "            del self.memory[0]\n",
    "    \n",
    "    def make(self, batch_size):\n",
    "        samples = sample(*(self.memory, batch_size))\n",
    "       \n",
    "        return samples\n",
    "        #return map(lambda x: Variable(torch.cat(x, 0)), samples)"
   ]
  },
  {
   "cell_type": "code",
   "execution_count": 7,
   "metadata": {
    "collapsed": true
   },
   "outputs": [],
   "source": [
    "#populate the SampleMaker \n",
    "l=60000\n",
    "samplemaker=SampleMaker(capacity=l)\n",
    "for i in range(l):\n",
    "    #print(test_dat[i].shape, test_label[i].shape)\n",
    "    samplemaker.push([train_dataset[i][0], [train_dataset[i][1]]])  "
   ]
  },
  {
   "cell_type": "code",
   "execution_count": 8,
   "metadata": {},
   "outputs": [
    {
     "name": "stdout",
     "output_type": "stream",
     "text": [
      "torch.Size([10, 784])\n",
      "torch.Size([10, 1])\n"
     ]
    }
   ],
   "source": [
    "#### check on if the sample class outputs are oki\n",
    "samples=samplemaker.make(10)\n",
    "batch_labels=Variable(torch.from_numpy(np.array(list(map(lambda s:s[1],samples)))))\n",
    "batch=torch.cat( map(lambda x: x[0].view(-1,28*28), samples),1).view(-1,28*28)\n",
    "print(batch.size())\n",
    "\n",
    "print(batch_labels.size())\n",
    "#print(torch.from_numpy(batch_labels))\n",
    "   \n",
    "    "
   ]
  },
  {
   "cell_type": "code",
   "execution_count": 9,
   "metadata": {
    "collapsed": true
   },
   "outputs": [],
   "source": [
    "#####autoencoder class\n",
    "input_dim=28*28\n",
    "hidden_dim=10*10\n",
    "\n",
    "#encoder = nn.Sequential(nn.Linear(input_dim,hidden1_dim),nn.Sigmoid(), nn.Linear(hidden1_dim,hidden2_dim), nn.Sigmoid())\n",
    "encoder = nn.Sequential(nn.Linear(input_dim,hidden_dim),nn.Sigmoid())\n",
    "\n",
    "#decoder = nn.Sequential(nn.Linear(hidden2_dim,hidden1_dim), nn.Sigmoid(), nn.Linear(hidden1_dim, input_dim), nn.Sigmoid())\n",
    "decoder = nn.Sequential(nn.Linear(hidden_dim, input_dim), nn.Sigmoid())\n",
    "\n",
    "autoencoder = nn.Sequential(encoder, decoder)"
   ]
  },
  {
   "cell_type": "code",
   "execution_count": 10,
   "metadata": {
    "collapsed": true
   },
   "outputs": [],
   "source": [
    "magic_num=int(np.sqrt(hidden_dim))"
   ]
  },
  {
   "cell_type": "code",
   "execution_count": 11,
   "metadata": {},
   "outputs": [
    {
     "name": "stdout",
     "output_type": "stream",
     "text": [
      "0-th batches loss: 0.468489256501\n",
      "10-th batches loss: 0.468805521746\n",
      "20-th batches loss: 0.46881095673\n",
      "30-th batches loss: 0.468805864764\n",
      "40-th batches loss: 0.468814918188\n",
      "50-th batches loss: 0.468822019406\n"
     ]
    }
   ],
   "source": [
    "### train autoencoder using sequential model, taking in batch\n",
    "input_dim=28*28\n",
    "criterion = nn.MSELoss()\n",
    "\n",
    "optimizer = optim.RMSprop(autoencoder.parameters(), lr = 0.01, weight_decay = 0.5)\n",
    "s = 0.\n",
    "\n",
    "train_loss = 0\n",
    "batch_size=1000\n",
    "batch_epoch=int(60000/batch_size)\n",
    "\n",
    "#training loss\n",
    "for i in range(batch_epoch):\n",
    "    if os.path.isfile('ae_CNN.pth'):\n",
    "        autoencoder = torch.load('ae_CNN.pth')\n",
    "    else:\n",
    "        pass\n",
    "    sam=samplemaker.make(batch_size)\n",
    "    batch=torch.cat( map(lambda x: x[0].view(-1,28*28), sam),1).view(-1,28*28)\n",
    "    batch_labels=torch.from_numpy(np.array(list(map(lambda s:s[1],sam))).astype(np.int64))\n",
    "    label=Variable(batch_labels)\n",
    "    x_input=Variable(batch.float().view(-1,28*28)) \n",
    "    x_target=x_input\n",
    "    #x_output=ae(x_input)\n",
    "    x_output=autoencoder(x_input)\n",
    "    optimizer.zero_grad()\n",
    "    loss=criterion(x_output,x_target)\n",
    "    loss.backward()\n",
    "    train_loss += np.sqrt(loss.data[0])\n",
    "    s += 1\n",
    "    optimizer.step()\n",
    "\n",
    "    if i%10==0:\n",
    "        print(str(i)+'-th batches'+' loss: '+str(train_loss/s))"
   ]
  },
  {
   "cell_type": "code",
   "execution_count": 12,
   "metadata": {
    "collapsed": true
   },
   "outputs": [],
   "source": [
    "#save all the model for later usage\n",
    "torch.save(encoder, 'AutoEncoder_encode.pth')\n",
    "encode_model = torch.load('AutoEncoder_encode.pth')\n",
    "torch.save(decoder, 'AutoEncoder_decode.pth')\n",
    "decode_model = torch.load('AutoEncoder_decode.pth')\n",
    "\n",
    "torch.save(autoencoder, 'ae_CNN.pth')\n",
    "the_model = torch.load('ae_CNN.pth')\n"
   ]
  },
  {
   "cell_type": "code",
   "execution_count": 13,
   "metadata": {},
   "outputs": [
    {
     "name": "stdout",
     "output_type": "stream",
     "text": [
      "torch.Size([1, 2, 100])\n",
      "Variable containing:\n",
      " 9\n",
      " 3\n",
      "[torch.LongTensor of size 2]\n",
      "\n"
     ]
    }
   ],
   "source": [
    "### check if the encode_model() is saved and can be used for CNN model\n",
    "samples=samplemaker.make(2)\n",
    "batch_labels=Variable(torch.from_numpy(np.array(list(map(lambda s:s[1],samples)))))\n",
    "batch=torch.cat( map(lambda x: x[0].view(-1,28*28), samples),1).view(-1,28*28)\n",
    "\n",
    "o=encode_model(Variable(batch.float().view(-1,28*28)))\n",
    "print(o.unsqueeze(0).size())\n",
    "print(batch_labels.view(2))"
   ]
  },
  {
   "cell_type": "code",
   "execution_count": 26,
   "metadata": {},
   "outputs": [
    {
     "name": "stdout",
     "output_type": "stream",
     "text": [
      "torch.Size([1000, 784])\n",
      "torch.Size([1000, 1])\n",
      "torch.Size([1000]) Variable containing:\n",
      "    3\n",
      "    2\n",
      "    7\n",
      "    6\n",
      "    1\n",
      "    0\n",
      "    1\n",
      "    7\n",
      "    9\n",
      "    9\n",
      "[torch.LongTensor of size 10x1]\n",
      "\n",
      "x_in torch.Size([1000, 784])\n",
      "torch.Size([1000, 1, 10, 10])\n",
      "torch.Size([1000, 10])\n"
     ]
    }
   ],
   "source": [
    "sam=samplemaker.make(1000)\n",
    "b=torch.cat(map(lambda x: x[0].view(-1,28*28), sam),1).view(-1,28*28)\n",
    "print(b.size())\n",
    "bl=torch.from_numpy(np.array(list(map(lambda s:s[1],sam))).astype(np.int64))\n",
    "print(bl.size())\n",
    "label=Variable(bl)\n",
    "print(label.squeeze().size(), label[:10])\n",
    "x_in=Variable(b.float().view(-1,28*28))\n",
    "print(\"x_in\",x_in.size())\n",
    "\n",
    "#x_output=ae(x_input)\n",
    "x=encode_model(x_in).view(-1,1,10,10)\n",
    "print(x.size())\n",
    "x_output=CNN(10)(x_in)\n",
    "print(x_output.size())"
   ]
  },
  {
   "cell_type": "code",
   "execution_count": 15,
   "metadata": {
    "collapsed": true
   },
   "outputs": [],
   "source": [
    "class CNN(nn.Module):\n",
    "    \n",
    "    def __init__(self, num_class):\n",
    "        super(CNN, self).__init__()\n",
    "        self.model=encode_model\n",
    "        # in_channel=1 color , out_channel=hyper param, kernerl_size=hyper param\n",
    "        self.convolution1 = nn.Conv2d(in_channels = 1, out_channels = 64, kernel_size = 2)\n",
    "        # in_channel=32 previous out_channel , out_channel=hyper param, kernerl_size=hyper param\n",
    "        self.convolution2 = nn.Conv2d(in_channels = 64, out_channels = 64, kernel_size = 2)\n",
    "        #to obtain numOfNeurons to input to fc1, we use a function count_neurons()\n",
    "        self.fc1 = nn.Linear(in_features = 64, out_features = 40)\n",
    "        #self.fc1= nn.Linear(64, 40)\n",
    "        self.fc2 = nn.Linear(in_features = 40, out_features = num_class)\n",
    "\n",
    "    def count_neurons(self, x):\n",
    "        #image_dim=(1,80,80) obtained from image_preprocessing.py\n",
    "        #x = Variable(torch.rand(1, image_dim))#create fake image comply to dimensions feed to pytorch Variable\n",
    "        #print('torch Variable x',x.size())   # variable 1x1x80x80\n",
    "        #[torch.FloatTensor of size 1x3136]\n",
    "        x = self.model(x.view(-1,28*28))\n",
    "        #print(x.size())\n",
    "        x = F.relu(F.max_pool2d(self.convolution1(x.view(-1,1,magic_num,magic_num)), 3, 2))\n",
    "        #print('first conv-maxpool x',x.size())# 1st conv-maxpool 1x32x37x37 torch.FloatTensor\n",
    "        #print('second conv-maxpool x',x.size())#2nd conv-maxpool 1x32x17x17 \n",
    "        x = F.relu(F.max_pool2d(self.convolution2(x), 3, 2))\n",
    "        #print('3rd conv-maxpool x',x.size())#3rd conv-maxpool 1x64x7x7\n",
    "        #pytorch trick to get shape/num of neurons out of Conv  layers\n",
    "        #print('x.data',x.data) #1x64x7x7\n",
    "        #print('x.data.view(1,-1)',x.data.view(1,-1))\n",
    "        #x.data.view(1,-1) is a torch.FloatTensor 1x3136 \n",
    "        # 0.0000  0.0000  0.0000  ...   0.1507  0.1516  0.1373 \n",
    "        return x.data.view(1, -1).size(1) # class :int\n",
    "\n",
    "    def forward(self, x):\n",
    "        #print(x.size())\n",
    "        y = self.model(x.view(-1,28*28)).unsqueeze(0)\n",
    "        #print(y.size())\n",
    "        y = F.relu(F.max_pool2d(self.convolution1(y.view(-1,1,magic_num,magic_num)), 3, 2))\n",
    "        y = F.relu(F.max_pool2d(self.convolution2(y), 3, 2)) #apply max_pool2d here\n",
    "        y = y.view(x.size(0), -1) # similar way to extract total num of neurons to feed fc1\n",
    "        y = F.relu(self.fc1(y))\n",
    "        y = self.fc2(y)\n",
    "        return y\n"
   ]
  },
  {
   "cell_type": "code",
   "execution_count": null,
   "metadata": {},
   "outputs": [],
   "source": [
    "\n",
    "def save(model):\n",
    "    torch.save({'state_dict': model.state_dict(),\n",
    "                'optimizer' : optimizer.state_dict(),\n",
    "               }, 'CNN_with_pretrained_ae.pth')\n",
    "def load(model):\n",
    "    if os.path.isfile('CNN_with_pretrained_ae.pth'):\n",
    "        print(\"=> loading checkpoint... \")\n",
    "        checkpoint = torch.load('CNN_with_pretrained_ae.pth')\n",
    "        model.load_state_dict(checkpoint['state_dict'])\n",
    "        optimizer.load_state_dict(checkpoint['optimizer'])\n",
    "        print(\"done !\")\n",
    "    else:\n",
    "        print(\"no checkpoint found...\")\n",
    "save(ae_cnn)\n",
    "load(ae_cnn)"
   ]
  },
  {
   "cell_type": "code",
   "execution_count": 16,
   "metadata": {},
   "outputs": [
    {
     "name": "stdout",
     "output_type": "stream",
     "text": [
      "0-th batches loss: 2.304671287536621\n",
      "10-th batches loss: 2.2940926551818848\n",
      "20-th batches loss: 2.2697806358337402\n",
      "30-th batches loss: 2.2000272274017334\n",
      "40-th batches loss: 2.0462419986724854\n",
      "50-th batches loss: 1.8514065742492676\n",
      "0-th batches loss: 1.5727497339248657\n",
      "10-th batches loss: 1.318742036819458\n",
      "20-th batches loss: 1.059477686882019\n",
      "30-th batches loss: 0.9229947924613953\n",
      "40-th batches loss: 0.7712780237197876\n",
      "50-th batches loss: 0.6447234153747559\n",
      "0-th batches loss: 0.5454341769218445\n",
      "10-th batches loss: 0.5285754203796387\n",
      "20-th batches loss: 0.5023273825645447\n",
      "30-th batches loss: 0.4796751141548157\n",
      "40-th batches loss: 0.41517847776412964\n",
      "50-th batches loss: 0.39064860343933105\n",
      "0-th batches loss: 0.3688980042934418\n",
      "10-th batches loss: 0.38776564598083496\n",
      "20-th batches loss: 0.32530465722084045\n",
      "30-th batches loss: 0.31415703892707825\n",
      "40-th batches loss: 0.35670873522758484\n",
      "50-th batches loss: 0.3172323405742645\n",
      "0-th batches loss: 0.29623666405677795\n",
      "10-th batches loss: 0.2666770815849304\n",
      "20-th batches loss: 0.22362862527370453\n",
      "30-th batches loss: 0.24565140902996063\n",
      "40-th batches loss: 0.19819706678390503\n",
      "50-th batches loss: 0.23893851041793823\n",
      "0-th batches loss: 0.22598500549793243\n",
      "10-th batches loss: 0.21020101010799408\n",
      "20-th batches loss: 0.20785285532474518\n",
      "30-th batches loss: 0.19198860228061676\n",
      "40-th batches loss: 0.18904370069503784\n",
      "50-th batches loss: 0.218370720744133\n",
      "0-th batches loss: 0.18588395416736603\n",
      "10-th batches loss: 0.17171089351177216\n",
      "20-th batches loss: 0.1721944361925125\n",
      "30-th batches loss: 0.14447110891342163\n",
      "40-th batches loss: 0.1370203197002411\n",
      "50-th batches loss: 0.17771118879318237\n",
      "0-th batches loss: 0.16045980155467987\n",
      "10-th batches loss: 0.15891629457473755\n",
      "20-th batches loss: 0.13302099704742432\n",
      "30-th batches loss: 0.12668144702911377\n",
      "40-th batches loss: 0.1521233767271042\n",
      "50-th batches loss: 0.1443638652563095\n",
      "0-th batches loss: 0.12580588459968567\n",
      "10-th batches loss: 0.11639705300331116\n",
      "20-th batches loss: 0.14528019726276398\n",
      "30-th batches loss: 0.11544957756996155\n",
      "40-th batches loss: 0.12219715863466263\n",
      "50-th batches loss: 0.09265081584453583\n",
      "0-th batches loss: 0.11357368528842926\n",
      "10-th batches loss: 0.132010355591774\n",
      "20-th batches loss: 0.10087807476520538\n",
      "30-th batches loss: 0.1076161339879036\n",
      "40-th batches loss: 0.11997229605913162\n",
      "50-th batches loss: 0.10803665220737457\n"
     ]
    }
   ],
   "source": [
    "ae_cnn=CNN(10)\n",
    "criterion = nn.CrossEntropyLoss() #batch_size x num_class, target_of_same_batch_size\n",
    "learning_rate = 0.01\n",
    "optimizer = optim.Adam(ae_cnn.parameters(), lr = 0.001)\n",
    "\n",
    "iter = 0\n",
    "train_loss = 0\n",
    "batch_size=1000\n",
    "batch_epoch=int(60000/batch_size)\n",
    "num_epoch=10\n",
    "#training loss\n",
    "for epoch in range(num_epoch):\n",
    "    for i in range(batch_epoch):\n",
    "        sam=samplemaker.make(batch_size)\n",
    "        batch=torch.cat(map(lambda x: x[0].view(-1,28*28), sam),1).view(-1,28*28)\n",
    "        batch_labels=torch.from_numpy(np.array(list(map(lambda s:s[1],sam))).astype(np.int64))\n",
    "        label=Variable(batch_labels)\n",
    "        x_input=Variable(batch.float().view(-1,28*28))\n",
    "        x_target=label.squeeze()\n",
    "        #x_output=ae(x_input)\n",
    "        x_output=ae_cnn(x_input)\n",
    "        optimizer.zero_grad()\n",
    "        loss=criterion(x_output,x_target)\n",
    "        loss.backward()\n",
    "\n",
    "        optimizer.step()\n",
    "\n",
    "        if i%10==0:\n",
    "            print(str(i)+'-th batches'+' loss: '+str(loss.data[0]))\n",
    "\n",
    "        "
   ]
  },
  {
   "cell_type": "code",
   "execution_count": 17,
   "metadata": {},
   "outputs": [
    {
     "name": "stdout",
     "output_type": "stream",
     "text": [
      "oo.softmax Variable containing:\n",
      "-0.0831  0.0576 -0.1173  0.0219  0.0755  0.0888  0.0846 -0.1758 -0.1257  0.0277\n",
      "[torch.FloatTensor of size 1x10]\n",
      " Variable containing:\n",
      " 0.0930  0.1070  0.0898  0.1032  0.1089  0.1104  0.1099  0.0847  0.0891  0.1039\n",
      "[torch.FloatTensor of size 1x10]\n",
      "\n",
      "out[1]:\n",
      " 5\n",
      "[torch.LongTensor of size 1]\n",
      ", target:Variable containing:\n",
      " 7\n",
      "[torch.LongTensor of size 1]\n",
      "\n",
      "\n",
      "-2\n",
      "[torch.LongTensor of size 1]\n",
      "\n"
     ]
    }
   ],
   "source": [
    "t=Variable(test_dataset[0][0].view(-1,28*28))\n",
    "l=np.array([test_dataset[0][1]]).astype(np.int64)\n",
    "lt=Variable(torch.from_numpy(l))\n",
    "#print(l.shape)\n",
    "#print(lt.size(),lt)\n",
    "#print(t.size())\n",
    "#oo=CNN(10).count_neurons(t)\n",
    "oo=CNN(10)(t)\n",
    "\n",
    "print(\"oo.softmax\",oo,F.softmax(oo))\n",
    "#print(torch.max(oo.data, 1))\n",
    "out=torch.max(oo.data, 1)\n",
    "#print(\"out:{}\".format(out[1]))\n",
    "#print(test_dataset[0][1], type(test_dataset[0][1]))\n",
    "criterion = nn.CrossEntropyLoss()\n",
    "print(\"out[1]:{}, target:{}\".format(out[1], lt))\n",
    "print(out[1]-test_dataset[0][1])\n"
   ]
  },
  {
   "cell_type": "code",
   "execution_count": 18,
   "metadata": {},
   "outputs": [
    {
     "name": "stdout",
     "output_type": "stream",
     "text": [
      "accuracy: 96.12. total correct: 9612. total wrong: 388\n"
     ]
    }
   ],
   "source": [
    "r=len(test_dataset)\n",
    "correct = 0\n",
    "wrong=0\n",
    "\n",
    "for i in range(r):\n",
    "    #print(test_dataset[i][0].size(), test_dataset[i][1])\n",
    "    #######################\n",
    "    #  USE GPU FOR MODEL  #\n",
    "    #######################\n",
    "    if torch.cuda.is_available():\n",
    "        images = Variable(test_dataset[i][0].view(-1,28*28).cuda())\n",
    "        l=np.array([test_dataset[i][1]]).astype(np.int64)\n",
    "        labels = Variable(torch.from_numpy(l).cuda())\n",
    "    else:\n",
    "        images = Variable(test_dataset[i][0].view(-1,28*28))\n",
    "        l=np.array([test_dataset[i][1]]).astype(np.int64)\n",
    "        #labels = torch.from_numpy(l)\n",
    "        labels=test_dataset[i][1]\n",
    "    \n",
    "    # Clear gradients w.r.t. parameters\n",
    "    optimizer.zero_grad()\n",
    "\n",
    "    # Forward pass to get output/logits\n",
    "    outputs = ae_cnn(images)\n",
    "    _, predicted = torch.max(outputs.data, 1)\n",
    "    predicted=predicted.numpy().tolist()[0]\n",
    "    #print(type(predicted),predicted)\n",
    "    #print(type(labels),labels)\n",
    "    #prediction=predicted.numpy().tolist()[0][0]\n",
    "\n",
    "    #print(\"prediction:{}, target:{}\".format(predicted,labels))\n",
    "    if predicted==labels:\n",
    "        correct+=1\n",
    "    else:\n",
    "        wrong+=1\n",
    "    accuracy = 100 * correct / r\n",
    "\n",
    "# Print prediction\n",
    "print('accuracy: {}. total correct: {}. total wrong: {}'.format(accuracy,correct, wrong))"
   ]
  },
  {
   "cell_type": "code",
   "execution_count": 69,
   "metadata": {},
   "outputs": [
    {
     "data": {
      "image/png": "[encoded data removed]",
      "text/plain": [
       "<matplotlib.figure.Figure at 0x123c61c50>"
      ]
     },
     "metadata": {},
     "output_type": "display_data"
    },
    {
     "data": {
      "image/png": "[encoded data removed]",
      "text/plain": [
       "<matplotlib.figure.Figure at 0x1238f84e0>"
      ]
     },
     "metadata": {},
     "output_type": "display_data"
    },
    {
     "data": {
      "image/png": "[encoded data removed]",
      "text/plain": [
       "<matplotlib.figure.Figure at 0x123cca160>"
      ]
     },
     "metadata": {},
     "output_type": "display_data"
    },
    {
     "data": {
      "image/png": "[encoded data removed]",
      "text/plain": [
       "<matplotlib.figure.Figure at 0x123c6dc18>"
      ]
     },
     "metadata": {},
     "output_type": "display_data"
    },
    {
     "data": {
      "image/png": "[encoded data removed]",
      "text/plain": [
       "<matplotlib.figure.Figure at 0x12355b0b8>"
      ]
     },
     "metadata": {},
     "output_type": "display_data"
    },
    {
     "data": {
      "image/png": "[encoded data removed]",
      "text/plain": [
       "<matplotlib.figure.Figure at 0x12004b828>"
      ]
     },
     "metadata": {},
     "output_type": "display_data"
    },
    {
     "data": {
      "image/png": "[encoded data removed]",
      "text/plain": [
       "<matplotlib.figure.Figure at 0x12337ee48>"
      ]
     },
     "metadata": {},
     "output_type": "display_data"
    },
    {
     "data": {
      "image/png": "[encoded data removed]",
      "text/plain": [
       "<matplotlib.figure.Figure at 0x1238e1400>"
      ]
     },
     "metadata": {},
     "output_type": "display_data"
    },
    {
     "data": {
      "image/png": "[encoded data removed]",
      "text/plain": [
       "<matplotlib.figure.Figure at 0x120385400>"
      ]
     },
     "metadata": {},
     "output_type": "display_data"
    },
    {
     "data": {
      "image/png": "[encoded data removed]",
      "text/plain": [
       "<matplotlib.figure.Figure at 0x123a8a8d0>"
      ]
     },
     "metadata": {},
     "output_type": "display_data"
    }
   ],
   "source": [
    "import matplotlib.pyplot as plt\n",
    "import numpy as np\n",
    "%matplotlib inline\n",
    "from random import randint\n",
    "\n",
    "for i in range(10):\n",
    "\n",
    "    images = Variable(test_dataset[i][0].view(-1,28*28))\n",
    "    l=np.array([test_dataset[i][1]]).astype(np.int64)\n",
    "    #labels = torch.from_numpy(l)\n",
    "    labels=test_dataset[i][1]\n",
    "    \n",
    "    # Clear gradients w.r.t. parameters\n",
    "    optimizer.zero_grad()\n",
    "\n",
    "    # Forward pass to get output/logits\n",
    "    outputs = ae_cnn(images)\n",
    "    _, predicted = torch.max(outputs.data, 1)\n",
    "    predicted=predicted.numpy().tolist()[0]\n",
    "    img=images.data.numpy().reshape(28,28)\n",
    "    title=\"predicted number :\"+str(predicted)\n",
    "    plt.figure(i+1)\n",
    "    plt.title(title)\n",
    "    plt.imshow(img,cmap=plt.cm.gray)\n",
    "    \n"
   ]
  }
 ],
 "metadata": {
  "anaconda-cloud": {},
  "kernelspec": {
   "display_name": "Python 3",
   "language": "python",
   "name": "python3"
  },
  "language_info": {
   "codemirror_mode": {
    "name": "ipython",
    "version": 3
   },
   "file_extension": ".py",
   "mimetype": "text/x-python",
   "name": "python",
   "nbconvert_exporter": "python",
   "pygments_lexer": "ipython3",
   "version": "3.5.4"
  }
 },
 "nbformat": 4,
 "nbformat_minor": 2
}

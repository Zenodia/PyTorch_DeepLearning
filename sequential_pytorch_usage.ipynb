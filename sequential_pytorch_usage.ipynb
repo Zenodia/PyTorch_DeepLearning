{
 "cells": [
  {
   "cell_type": "code",
   "execution_count": 1,
   "metadata": {
    "collapsed": true
   },
   "outputs": [],
   "source": [
    "# Importing the libraries\n",
    "import numpy as np\n",
    "import pandas as pd\n",
    "import torch\n",
    "import torch.nn as nn\n",
    "import torch.nn.parallel\n",
    "import torch.optim as optim\n",
    "import torch.utils.data\n",
    "from torch.autograd import Variable\n",
    "import torch.nn.functional as F\n",
    "import os\n",
    "import sys"
   ]
  },
  {
   "cell_type": "code",
   "execution_count": 26,
   "metadata": {},
   "outputs": [
    {
     "name": "stdout",
     "output_type": "stream",
     "text": [
      "[(14, 10), (10, 5)] [(5, 10), (10, 14)]\n",
      "14 10\n",
      "10 5\n"
     ]
    }
   ],
   "source": [
    "inlist=[14,10,5]\n",
    "intuple=[(inlist[i],inlist[i+1]) for i in range(len(inlist)-1)]\n",
    "outlist=[ i for i in inlist[::-1]]\n",
    "outtuple=[(outlist[i],outlist[i+1]) for i in range(len(outlist)-1)]\n",
    "print(intuple,outtuple)\n",
    "for (a,b) in intuple:\n",
    "    print(a,b)"
   ]
  },
  {
   "cell_type": "code",
   "execution_count": 41,
   "metadata": {
    "collapsed": true
   },
   "outputs": [],
   "source": [
    "# one hidden layer nn\n",
    "class ANN(nn.Module):\n",
    "    def __init__(self, input_dim, hidden_dim ,output_dim):\n",
    "        super(ANN, self).__init__()\n",
    "        self.fc1=nn.Linear(input_dim, hidden_dim)\n",
    "        self.sigmoid=nn.Sigmoid()\n",
    "        #uncomment if relu\n",
    "        #self.sigmoid=nn.RelU()\n",
    "        self.fc2=nn.Linear(hidden_dim, output_dim)\n",
    "    def forward(self,x):\n",
    "        out=self.fc1(x)\n",
    "        #activate\n",
    "        out=self.sigmoid(out)\n",
    "        #uncomment if relu\n",
    "        #out=self.ReLU(out)\n",
    "        out=self.fc2(out)\n",
    "        return out"
   ]
  },
  {
   "cell_type": "code",
   "execution_count": 48,
   "metadata": {},
   "outputs": [
    {
     "data": {
      "text/plain": [
       "Variable containing:\n",
       " 0.1425  0.1747 -0.2461 -0.1618 -0.0922\n",
       " 0.1124  0.1531 -0.2352 -0.1651 -0.0538\n",
       " 0.1112  0.2070 -0.2484 -0.2053 -0.0685\n",
       " 0.1244  0.1811 -0.2650 -0.1712 -0.0803\n",
       " 0.1171  0.1983 -0.2251 -0.1936 -0.0820\n",
       " 0.1208  0.1725 -0.2362 -0.1802 -0.0676\n",
       " 0.1335  0.1446 -0.2219 -0.1264 -0.0538\n",
       " 0.1223  0.2062 -0.2107 -0.2116 -0.0797\n",
       " 0.1144  0.1841 -0.2595 -0.1779 -0.0535\n",
       " 0.1223  0.1795 -0.2190 -0.1747 -0.0698\n",
       "[torch.FloatTensor of size 10x5]"
      ]
     },
     "execution_count": 48,
     "metadata": {},
     "output_type": "execute_result"
    }
   ],
   "source": [
    "ann=ANN(14,10,5)\n",
    "#using view(-1 to bring in batch size)\n",
    "ann(Variable(torch.rand(10,1,14).view(-1,14)))"
   ]
  },
  {
   "cell_type": "code",
   "execution_count": 61,
   "metadata": {},
   "outputs": [],
   "source": [
    "class MyModule(nn.Module):\n",
    "\n",
    "    def __init__(self,intuple,outtuple):\n",
    "        super(MyModule, self).__init__()\n",
    "        self.ll=len(intuple)\n",
    "        self.inLayers = nn.ModuleList([nn.Linear(a, b) for (a,b) in intuple])\n",
    "        self.outLayers= nn.ModuleList([nn.Linear(a, b) for (a,b) in outtuple])\n",
    "        for linear in self.inLayers:\n",
    "            print(linear)\n",
    "        for linear in self.outLayers:\n",
    "            print(linear)\n",
    "        self.sigmoid = nn.Sigmoid()\n",
    "    def forward(self, x):\n",
    "        # ModuleList can act as an iterable, or be indexed using ints\n",
    "        for i, l in enumerate(self.inLayers):\n",
    "            x=self.sigmoid(l(x))\n",
    "            print(i, l)\n",
    "        for i,l in enumerate(self.outLayers):\n",
    "            if i<self.ll:\n",
    "                x=self.sigmoid(l(x))\n",
    "            else:\n",
    "                x=l(x)\n",
    "        return x"
   ]
  },
  {
   "cell_type": "code",
   "execution_count": 63,
   "metadata": {},
   "outputs": [
    {
     "name": "stdout",
     "output_type": "stream",
     "text": [
      "Linear (14 -> 10)\n",
      "Linear (10 -> 5)\n",
      "Linear (5 -> 10)\n",
      "Linear (10 -> 14)\n",
      "0 Linear (14 -> 10)\n",
      "1 Linear (10 -> 5)\n"
     ]
    },
    {
     "data": {
      "text/plain": [
       "Variable containing:\n",
       "\n",
       "Columns 0 to 9 \n",
       " 0.5669  0.5473  0.5880  0.5426  0.5460  0.6287  0.4425  0.5735  0.5303  0.4521\n",
       " 0.5669  0.5471  0.5881  0.5429  0.5461  0.6287  0.4425  0.5733  0.5303  0.4522\n",
       " 0.5669  0.5472  0.5880  0.5427  0.5460  0.6287  0.4425  0.5735  0.5303  0.4522\n",
       " 0.5669  0.5470  0.5881  0.5431  0.5462  0.6288  0.4424  0.5730  0.5303  0.4523\n",
       " 0.5669  0.5473  0.5880  0.5428  0.5461  0.6288  0.4426  0.5734  0.5302  0.4522\n",
       " 0.5669  0.5473  0.5880  0.5427  0.5460  0.6288  0.4426  0.5734  0.5303  0.4522\n",
       " 0.5668  0.5471  0.5881  0.5430  0.5463  0.6288  0.4425  0.5730  0.5303  0.4523\n",
       " 0.5669  0.5472  0.5880  0.5427  0.5460  0.6286  0.4425  0.5735  0.5302  0.4521\n",
       " 0.5669  0.5473  0.5880  0.5426  0.5460  0.6287  0.4426  0.5736  0.5302  0.4521\n",
       " 0.5669  0.5471  0.5881  0.5429  0.5462  0.6287  0.4424  0.5732  0.5303  0.4521\n",
       "\n",
       "Columns 10 to 13 \n",
       " 0.3954  0.3271  0.5146  0.5530\n",
       " 0.3953  0.3272  0.5146  0.5529\n",
       " 0.3953  0.3271  0.5146  0.5530\n",
       " 0.3949  0.3272  0.5145  0.5529\n",
       " 0.3953  0.3271  0.5145  0.5530\n",
       " 0.3953  0.3271  0.5146  0.5530\n",
       " 0.3950  0.3272  0.5145  0.5530\n",
       " 0.3954  0.3271  0.5146  0.5530\n",
       " 0.3954  0.3271  0.5146  0.5530\n",
       " 0.3951  0.3271  0.5146  0.5531\n",
       "[torch.FloatTensor of size 10x14]"
      ]
     },
     "execution_count": 63,
     "metadata": {},
     "output_type": "execute_result"
    }
   ],
   "source": [
    "m=MyModule(intuple,outtuple)\n",
    "m(Variable(torch.rand(10,1,14)).view(-1,14))"
   ]
  }
 ],
 "metadata": {
  "kernelspec": {
   "display_name": "Python 3",
   "language": "python",
   "name": "python3"
  },
  "language_info": {
   "codemirror_mode": {
    "name": "ipython",
    "version": 3
   },
   "file_extension": ".py",
   "mimetype": "text/x-python",
   "name": "python",
   "nbconvert_exporter": "python",
   "pygments_lexer": "ipython3",
   "version": "3.6.1"
  }
 },
 "nbformat": 4,
 "nbformat_minor": 2
}
